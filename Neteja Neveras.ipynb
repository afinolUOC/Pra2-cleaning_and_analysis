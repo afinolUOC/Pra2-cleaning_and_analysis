{
 "cells": [
  {
   "cell_type": "code",
   "execution_count": 1,
   "id": "e7e3bdd0",
   "metadata": {},
   "outputs": [],
   "source": [
    "import pandas as pd\n",
    "import numpy as np\n",
    "import warnings\n",
    "\n",
    "warnings.simplefilter(action='ignore', category=FutureWarning)\n",
    "\n",
    "pd.set_option('display.max_columns', None)\n",
    "pd.set_option('display.max_rows', None)"
   ]
  },
  {
   "cell_type": "markdown",
   "id": "d4a3268a",
   "metadata": {},
   "source": [
    "# Introducció\n",
    "Comentari origen del dataset i objectiu del mateix. Quina pregunta intenta respondre."
   ]
  },
  {
   "cell_type": "code",
   "execution_count": 2,
   "id": "656f5213",
   "metadata": {},
   "outputs": [],
   "source": [
    "# Read csv file\n",
    "raw_df = pd.read_csv('neveras.csv', decimal=\",\")"
   ]
  },
  {
   "cell_type": "code",
   "execution_count": 3,
   "id": "fa54e51a",
   "metadata": {},
   "outputs": [
    {
     "name": "stdout",
     "output_type": "stream",
     "text": [
      "El data frame conté 488 mostres.\n",
      "Cada mostra disposa de 136 atributs\n"
     ]
    }
   ],
   "source": [
    "#Rows and columns info\n",
    "print(f'El data frame conté {len(raw_df.index)} mostres.')\n",
    "print(f'Cada mostra disposa de {len(raw_df.columns)} atributs')"
   ]
  },
  {
   "cell_type": "markdown",
   "id": "045e58c2",
   "metadata": {},
   "source": [
    "Disposem de 136 variables, aquest és un nombre considerable de variables i per tant sera inevitable prescindir de moltes d'elles. En el que segeix de treball seleccionarem les variables que aporten més informació i les que puguin ser d'utilitat per tal de transformar el dataset cru del que partim en un dataset net llest per a la creacció de models. "
   ]
  },
  {
   "cell_type": "code",
   "execution_count": 4,
   "id": "aab61456",
   "metadata": {
    "scrolled": false
   },
   "outputs": [
    {
     "data": {
      "text/plain": [
       "product-name                                0\n",
       "product-type                                0\n",
       "price                                       0\n",
       "ref                                         0\n",
       "marca                                       0\n",
       "val-points                                  0\n",
       "val-quantity                                0\n",
       "product-sending-value                       0\n",
       "date                                        0\n",
       "Garantía                                    5\n",
       "Alturaexacta                                5\n",
       "Anchuraexacta                               5\n",
       "Númerodepuertas                             8\n",
       "Tipodeinstalación                           9\n",
       "Alimentación                               10\n",
       "ConsumoAnualdeEnergía                      12\n",
       "Altura                                     12\n",
       "Capacidadfrigorífico                       12\n",
       "Anchura                                    13\n",
       "BaldasenRefrigerador                       16\n",
       "EficienciaNueva                            22\n",
       "Profundidad                                23\n",
       "Ruido                                      24\n",
       "Refrigeración                              25\n",
       "Color/material                             25\n",
       "ReguladordeTemperatura                     35\n",
       "Tirador                                    39\n",
       "Cajones/Cestas                             43\n",
       "Peso                                       45\n",
       "Iluminación                                47\n",
       "PosicióndelosControles                     49\n",
       "EficienciaSonora                           56\n",
       "CapacidadCongelador                        62\n",
       "ClaseClimática                             71\n",
       "Apertura                                   73\n",
       "Panelable                                  91\n",
       "BalconesenlaPuerta                         92\n",
       "Hercios                                   104\n",
       "ControlDigitalExterno                     104\n",
       "Autonomíaencasodecorteeléctrico(Horas)    122\n",
       "Alarma                                    124\n",
       "BandejasenCongelador                      131\n",
       "Capacidaddecongelación                    131\n",
       "ClasificaciónporEstrellas                 149\n",
       "NoFrost                                   159\n",
       "BandejasAjustablesenFrigorífico           171\n",
       "DisplayDigital                            174\n",
       "LongituddelCable                          177\n",
       "CapacidadTotalNeta                        180\n",
       "PuertaReversible                          190\n",
       "Enfriamientorápido                        198\n",
       "AlarmaVisual                              203\n",
       "Potencia                                  232\n",
       "Pantalla                                  245\n",
       "ModoECO                                   273\n",
       "Botellero                                 282\n",
       "Intensidad                                283\n",
       "Huevera                                   305\n",
       "Posición                                  309\n",
       "stock                                     309\n",
       "Hieleras/Cubiteras                        311\n",
       "Conectividad                              319\n",
       "MotorExtrasilencioso                      321\n",
       "Motores                                   332\n",
       "ModoVacaciones                            336\n",
       "BandejasextraíblesEasyAccess              338\n",
       "VarioZone                                 342\n",
       "VarioShelf                                349\n",
       "Indicadordepuertacongeladorabierta        350\n",
       "BigBox                                    351\n",
       "ControlExterno                            353\n",
       "TipodeBotellero                           353\n",
       "SuperFrost                                357\n",
       "DispensadorHielo                          371\n",
       "Ventanaconvisibilidadinterior             373\n",
       "DispensadorAgua                           374\n",
       "TrituradordeHielo                         374\n",
       "BigBoxCongelador                          383\n",
       "Cámara                                    386\n",
       "AdmisióndeAgua                            390\n",
       "ExtraCold                                 400\n",
       "FullSkinCondenser                         401\n",
       "VitaFresh                                 405\n",
       "ExtraFresh                                429\n",
       "PatasRegulables                           429\n",
       "SistemaAntibacterias                      432\n",
       "ExtraFreshComfort                         434\n",
       "JuntasAntibacterias                       434\n",
       "---                                       437\n",
       "DiseñodelaSerie                           439\n",
       "AlturaMáximadeEncastre                    445\n",
       "TemperaturaAmbienteMáxima                 452\n",
       "InformaciónAdicional                      453\n",
       "PosicióndelasPuertas                      459\n",
       "Multizone                                 460\n",
       "ZeroBox                                   460\n",
       "FreshBox                                  460\n",
       "DoorCooling                               461\n",
       "RuedasTraseras                            463\n",
       "VitaCareBox                               466\n",
       "EficienciaAntigua                         466\n",
       "TemperaturaAmbienteMínima                 467\n",
       "Otrainformación                           468\n",
       "PotenciadeDescongelación                  468\n",
       "BloqueoparaNiños                          471\n",
       "LinearCooling                             471\n",
       "CapacidadTotalBruta                       472\n",
       "IonClean                                  474\n",
       "WineStorage                               477\n",
       "FuzzyLogic                                479\n",
       "NºBotelleros                              479\n",
       "NeoFrostDualCooling                       479\n",
       "MotorInverter/Blindado                    481\n",
       "SistemadepurificacióndeairePureNFresh     483\n",
       "IluminaciónInterior                       483\n",
       "FreshFood                                 484\n",
       "Ruido(Decibelios)                         484\n",
       "Cajones                                   484\n",
       "Supercongelación                          484\n",
       "Potenciadeaudio                           484\n",
       "CompartimentoCubiertoparaLácteos          484\n",
       "LongituddelManguitodeentrada              485\n",
       "LongituddelManguitodeSalida               485\n",
       "VitControl                                486\n",
       "UltraFreshCrisper                         486\n",
       "Controles                                 486\n",
       "Serie                                     487\n",
       "IluminaciónLED                            487\n",
       "Voltaje(V)                                487\n",
       "Certificacionesdehomologación             487\n",
       "HyperFreeze                               487\n",
       "FoodCareZone                              487\n",
       "SmartDiagnosis                            487\n",
       "TecnologíaInverter                        487\n",
       "Frecuencia                                487\n",
       "DiseñodelTirador                          488\n",
       "dtype: int64"
      ]
     },
     "execution_count": 4,
     "metadata": {},
     "output_type": "execute_result"
    }
   ],
   "source": [
    "# Var list and missig values\n",
    "missing_values = raw_df.isna().sum()\n",
    "missing_values.sort_values()"
   ]
  },
  {
   "cell_type": "markdown",
   "id": "fe278e10",
   "metadata": {},
   "source": [
    "Moltes variables contenen força valors nuls. Utilitzarem el nombre de valors nuls com a criteri per realitzar una subselecció de variables. Treballarem sobre les variables que contenen 25 o menys valor nuls. Aquest valor representa aproximadament un 5% de les mostres(488)."
   ]
  },
  {
   "cell_type": "markdown",
   "id": "91c5e9dc",
   "metadata": {},
   "source": [
    "# Selecció de variables i adecució de format"
   ]
  },
  {
   "cell_type": "code",
   "execution_count": 5,
   "id": "ba93ba99",
   "metadata": {},
   "outputs": [],
   "source": [
    "# df per guardar les variables seleccionades\n",
    "selected_df = pd.DataFrame()"
   ]
  },
  {
   "cell_type": "markdown",
   "id": "0d61d3f5",
   "metadata": {},
   "source": [
    "## Variables descartades"
   ]
  },
  {
   "cell_type": "code",
   "execution_count": 6,
   "id": "5861baa4",
   "metadata": {
    "scrolled": true
   },
   "outputs": [
    {
     "data": {
      "text/html": [
       "<div>\n",
       "<style scoped>\n",
       "    .dataframe tbody tr th:only-of-type {\n",
       "        vertical-align: middle;\n",
       "    }\n",
       "\n",
       "    .dataframe tbody tr th {\n",
       "        vertical-align: top;\n",
       "    }\n",
       "\n",
       "    .dataframe thead th {\n",
       "        text-align: right;\n",
       "    }\n",
       "</style>\n",
       "<table border=\"1\" class=\"dataframe\">\n",
       "  <thead>\n",
       "    <tr style=\"text-align: right;\">\n",
       "      <th></th>\n",
       "      <th>product-name</th>\n",
       "      <th>ref</th>\n",
       "    </tr>\n",
       "  </thead>\n",
       "  <tbody>\n",
       "    <tr>\n",
       "      <th>0</th>\n",
       "      <td>TEKA NFL 320 C INOX - Frigorífico Combi No Frost</td>\n",
       "      <td>115216026</td>\n",
       "    </tr>\n",
       "    <tr>\n",
       "      <th>1</th>\n",
       "      <td>INDESIT TAA 5 1 BLANCO - Frigorífico Dos Puert...</td>\n",
       "      <td>14760137</td>\n",
       "    </tr>\n",
       "    <tr>\n",
       "      <th>2</th>\n",
       "      <td>INDESIT LI8 SN2E X Inox - Frigorífico Combi No...</td>\n",
       "      <td>14762233</td>\n",
       "    </tr>\n",
       "    <tr>\n",
       "      <th>3</th>\n",
       "      <td>TEKA NFL-320 Blanco - Frigorífico Combi No Frost</td>\n",
       "      <td>115214386</td>\n",
       "    </tr>\n",
       "    <tr>\n",
       "      <th>4</th>\n",
       "      <td>KROMSLINE KC-185-DW BLANCO - Frigorífico Combi...</td>\n",
       "      <td>702139949</td>\n",
       "    </tr>\n",
       "  </tbody>\n",
       "</table>\n",
       "</div>"
      ],
      "text/plain": [
       "                                        product-name        ref\n",
       "0   TEKA NFL 320 C INOX - Frigorífico Combi No Frost  115216026\n",
       "1  INDESIT TAA 5 1 BLANCO - Frigorífico Dos Puert...   14760137\n",
       "2  INDESIT LI8 SN2E X Inox - Frigorífico Combi No...   14762233\n",
       "3   TEKA NFL-320 Blanco - Frigorífico Combi No Frost  115214386\n",
       "4  KROMSLINE KC-185-DW BLANCO - Frigorífico Combi...  702139949"
      ]
     },
     "execution_count": 6,
     "metadata": {},
     "output_type": "execute_result"
    }
   ],
   "source": [
    "# Mostrem els primer valors\n",
    "raw_df[['product-name','ref']].head()"
   ]
  },
  {
   "cell_type": "markdown",
   "id": "1a051d9d",
   "metadata": {},
   "source": [
    "La variable product-name conte el nom del producte, de forma semblan la variable ref conté un valor numeric que relaciona les caracteristiques amb el producte. Aquestes dues variables no aporten informació útil a l'hora de crear un model."
   ]
  },
  {
   "cell_type": "code",
   "execution_count": 7,
   "id": "7be9405d",
   "metadata": {},
   "outputs": [
    {
     "name": "stdout",
     "output_type": "stream",
     "text": [
      "['frigorificos']\n",
      "['2023-04-24']\n",
      "['230V' nan ' 230V' '230V ']\n"
     ]
    }
   ],
   "source": [
    "# Mostrem els valors únics\n",
    "print(raw_df['product-type'].unique())\n",
    "print(raw_df['date'].unique())\n",
    "print(raw_df['Alimentación'].unique())"
   ]
  },
  {
   "cell_type": "markdown",
   "id": "22973e40",
   "metadata": {},
   "source": [
    "Les variables product-type i date contenen un mateix valor per a totes mostres, es per aquest motiu qeu no podran aportar informacó a en un futur model. Succeeix el mateix en el cas de la variable alimentació, totes els electrodomestics extrets d'aquesta font son per al mercat europeu i funcionen a una font d'alimentació de 230V."
   ]
  },
  {
   "cell_type": "code",
   "execution_count": 8,
   "id": "068c61d1",
   "metadata": {},
   "outputs": [],
   "source": [
    "quantity = raw_df['val-quantity'].str.replace('(', '').str.replace(')', '').astype('Int64')\n",
    "points = raw_df['val-points']"
   ]
  },
  {
   "cell_type": "markdown",
   "id": "dd6a3da2",
   "metadata": {},
   "source": [
    "Les variables val-quantity i val-points estan estricatament relacionades, la variables val-quantity indica el nombre de valoracions total de cada producte, metre que val-points és la mitjana de les valoracions."
   ]
  },
  {
   "cell_type": "code",
   "execution_count": 9,
   "id": "1e179481",
   "metadata": {},
   "outputs": [
    {
     "data": {
      "text/plain": [
       "0     428\n",
       "1      23\n",
       "2       9\n",
       "6       5\n",
       "3       5\n",
       "4       5\n",
       "10      3\n",
       "8       2\n",
       "5       2\n",
       "7       2\n",
       "20      1\n",
       "12      1\n",
       "13      1\n",
       "14      1\n",
       "Name: val-quantity, dtype: Int64"
      ]
     },
     "execution_count": 9,
     "metadata": {},
     "output_type": "execute_result"
    }
   ],
   "source": [
    "quantity.value_counts()"
   ]
  },
  {
   "cell_type": "markdown",
   "id": "29c30c2e",
   "metadata": {},
   "source": [
    "Hi ha 428 items que no tenen cap valoració. Aquestes variables poden ser molts útils per a la creació d'un model ja que aporten l'opinió del clients sobre els productes. En aquest cas, degut a la manca generalitzada de valoracions considerem que no aporten sufient infurmació per seleccionar-les."
   ]
  },
  {
   "cell_type": "code",
   "execution_count": 10,
   "id": "fff8d029",
   "metadata": {},
   "outputs": [
    {
     "data": {
      "text/html": [
       "<div>\n",
       "<style scoped>\n",
       "    .dataframe tbody tr th:only-of-type {\n",
       "        vertical-align: middle;\n",
       "    }\n",
       "\n",
       "    .dataframe tbody tr th {\n",
       "        vertical-align: top;\n",
       "    }\n",
       "\n",
       "    .dataframe thead th {\n",
       "        text-align: right;\n",
       "    }\n",
       "</style>\n",
       "<table border=\"1\" class=\"dataframe\">\n",
       "  <thead>\n",
       "    <tr style=\"text-align: right;\">\n",
       "      <th></th>\n",
       "      <th>Alturaexacta</th>\n",
       "      <th>Altura</th>\n",
       "    </tr>\n",
       "  </thead>\n",
       "  <tbody>\n",
       "    <tr>\n",
       "      <th>0</th>\n",
       "      <td>188 Centímetros</td>\n",
       "      <td>181 a 190</td>\n",
       "    </tr>\n",
       "    <tr>\n",
       "      <th>1</th>\n",
       "      <td>180 Centímetros</td>\n",
       "      <td>176 a 180 cm</td>\n",
       "    </tr>\n",
       "    <tr>\n",
       "      <th>2</th>\n",
       "      <td>189 Centímetros</td>\n",
       "      <td>181 a 190</td>\n",
       "    </tr>\n",
       "    <tr>\n",
       "      <th>3</th>\n",
       "      <td>188 Centímetros</td>\n",
       "      <td>181 a 190</td>\n",
       "    </tr>\n",
       "    <tr>\n",
       "      <th>4</th>\n",
       "      <td>185 Centímetros</td>\n",
       "      <td>181 a 190</td>\n",
       "    </tr>\n",
       "  </tbody>\n",
       "</table>\n",
       "</div>"
      ],
      "text/plain": [
       "      Alturaexacta        Altura\n",
       "0  188 Centímetros     181 a 190\n",
       "1  180 Centímetros  176 a 180 cm\n",
       "2  189 Centímetros     181 a 190\n",
       "3  188 Centímetros     181 a 190\n",
       "4  185 Centímetros     181 a 190"
      ]
     },
     "execution_count": 10,
     "metadata": {},
     "output_type": "execute_result"
    }
   ],
   "source": [
    "raw_df[['Alturaexacta','Altura']].head()"
   ]
  },
  {
   "cell_type": "markdown",
   "id": "8f69153e",
   "metadata": {},
   "source": [
    "A priori, les variables Alturaexacta i Altura representen la meteixa informació, amb la diferencia que una és una variable númerica i l'altre categorica. Per tal d'assegurar-nos calculem a continuació la correlació entre ambdues:"
   ]
  },
  {
   "cell_type": "code",
   "execution_count": 11,
   "id": "a9e4e394",
   "metadata": {},
   "outputs": [
    {
     "name": "stdout",
     "output_type": "stream",
     "text": [
      "0.886325742819265\n"
     ]
    }
   ],
   "source": [
    "aux_df = pd.DataFrame()\n",
    "aux_df[\"Altura\"] = pd.Categorical(raw_df[\"Altura\"])\n",
    "aux_df[\"Alturaexacta\"] = pd.Categorical(raw_df[\"Alturaexacta\"])\n",
    "\n",
    "corr = aux_df[\"Altura\"].cat.codes.corr(aux_df[\"Alturaexacta\"].cat.codes)\n",
    "\n",
    "print(corr)"
   ]
  },
  {
   "cell_type": "markdown",
   "id": "74dbbab2",
   "metadata": {},
   "source": [
    "Donada l'alta correlació entre les dues variables, decidim descartar la variable altura ja que aporta una informació menys precisa i conte més valors nuls.\n",
    "\n",
    "Es dona el mateix cas entre les variables Anchura i Anchuraexacta, per tant decidim descartar la variable Anchura."
   ]
  },
  {
   "cell_type": "markdown",
   "id": "43acbe4c",
   "metadata": {},
   "source": [
    "## Variables seleccionades i adequedes"
   ]
  },
  {
   "cell_type": "code",
   "execution_count": 12,
   "id": "c0b69ed1",
   "metadata": {},
   "outputs": [
    {
     "data": {
      "text/html": [
       "<div>\n",
       "<style scoped>\n",
       "    .dataframe tbody tr th:only-of-type {\n",
       "        vertical-align: middle;\n",
       "    }\n",
       "\n",
       "    .dataframe tbody tr th {\n",
       "        vertical-align: top;\n",
       "    }\n",
       "\n",
       "    .dataframe thead th {\n",
       "        text-align: right;\n",
       "    }\n",
       "</style>\n",
       "<table border=\"1\" class=\"dataframe\">\n",
       "  <thead>\n",
       "    <tr style=\"text-align: right;\">\n",
       "      <th></th>\n",
       "      <th>price</th>\n",
       "      <th>marca</th>\n",
       "      <th>product-sending-value</th>\n",
       "      <th>Garantía</th>\n",
       "      <th>Alturaexacta</th>\n",
       "      <th>Anchuraexacta</th>\n",
       "      <th>Númerodepuertas</th>\n",
       "      <th>Tipodeinstalación</th>\n",
       "      <th>ConsumoAnualdeEnergía</th>\n",
       "      <th>Capacidadfrigorífico</th>\n",
       "      <th>BaldasenRefrigerador</th>\n",
       "      <th>EficienciaNueva</th>\n",
       "      <th>Profundidad</th>\n",
       "      <th>Ruido</th>\n",
       "      <th>Refrigeración</th>\n",
       "      <th>Color/material</th>\n",
       "    </tr>\n",
       "  </thead>\n",
       "  <tbody>\n",
       "    <tr>\n",
       "      <th>0</th>\n",
       "      <td>418,49 €</td>\n",
       "      <td>TEKA</td>\n",
       "      <td>37,00 €</td>\n",
       "      <td>3 Años</td>\n",
       "      <td>188 Centímetros</td>\n",
       "      <td>60 Centímetros</td>\n",
       "      <td>2 Puertas</td>\n",
       "      <td>Libre</td>\n",
       "      <td>293 Kwh/Año</td>\n",
       "      <td>224 Litros</td>\n",
       "      <td>4 Baldas</td>\n",
       "      <td>F</td>\n",
       "      <td>64 Centímetros</td>\n",
       "      <td>41 Decibelios</td>\n",
       "      <td>No Frost</td>\n",
       "      <td>Inox</td>\n",
       "    </tr>\n",
       "    <tr>\n",
       "      <th>1</th>\n",
       "      <td>393,49 €</td>\n",
       "      <td>INDESIT</td>\n",
       "      <td>37,00 €</td>\n",
       "      <td>3 Años</td>\n",
       "      <td>180 Centímetros</td>\n",
       "      <td>70 Centímetros</td>\n",
       "      <td>2 Puertas</td>\n",
       "      <td>Libre</td>\n",
       "      <td>282 Kwh/Año</td>\n",
       "      <td>333 Litros</td>\n",
       "      <td>5 Baldas</td>\n",
       "      <td>F</td>\n",
       "      <td>69 Centímetros</td>\n",
       "      <td>44 Decibelios</td>\n",
       "      <td>Cíclico</td>\n",
       "      <td>Blanco</td>\n",
       "    </tr>\n",
       "    <tr>\n",
       "      <th>2</th>\n",
       "      <td>437,49 €</td>\n",
       "      <td>INDESIT</td>\n",
       "      <td>37,00 €</td>\n",
       "      <td>3 Años</td>\n",
       "      <td>189 Centímetros</td>\n",
       "      <td>60 Centímetros</td>\n",
       "      <td>2 Puertas</td>\n",
       "      <td>Libre</td>\n",
       "      <td>247 Kwh/Año</td>\n",
       "      <td>230 Litros</td>\n",
       "      <td>4 Baldas</td>\n",
       "      <td>E</td>\n",
       "      <td>66 Centímetros</td>\n",
       "      <td>40 Decibelios</td>\n",
       "      <td>Cíclico</td>\n",
       "      <td>Inox</td>\n",
       "    </tr>\n",
       "    <tr>\n",
       "      <th>3</th>\n",
       "      <td>406,49 €</td>\n",
       "      <td>TEKA</td>\n",
       "      <td>37,00 €</td>\n",
       "      <td>3 Años</td>\n",
       "      <td>188 Centímetros</td>\n",
       "      <td>60 Centímetros</td>\n",
       "      <td>2 Puertas</td>\n",
       "      <td>Libre</td>\n",
       "      <td>293 Kwh/Año</td>\n",
       "      <td>224 Litros</td>\n",
       "      <td>NaN</td>\n",
       "      <td>F</td>\n",
       "      <td>64 Centímetros</td>\n",
       "      <td>41 Decibelios</td>\n",
       "      <td>No Frost</td>\n",
       "      <td>Blanco</td>\n",
       "    </tr>\n",
       "    <tr>\n",
       "      <th>4</th>\n",
       "      <td>455,20 €</td>\n",
       "      <td>KROMSLINE</td>\n",
       "      <td>37,00 €</td>\n",
       "      <td>5 Años</td>\n",
       "      <td>185 Centímetros</td>\n",
       "      <td>60 Centímetros</td>\n",
       "      <td>2 Puertas</td>\n",
       "      <td>Libre</td>\n",
       "      <td>256 Kwh/Año</td>\n",
       "      <td>211 Litros</td>\n",
       "      <td>4 Baldas</td>\n",
       "      <td>E</td>\n",
       "      <td>66 Centímetros</td>\n",
       "      <td>41 Decibelios</td>\n",
       "      <td>No Frost</td>\n",
       "      <td>Blanco</td>\n",
       "    </tr>\n",
       "  </tbody>\n",
       "</table>\n",
       "</div>"
      ],
      "text/plain": [
       "       price      marca product-sending-value Garantía     Alturaexacta  \\\n",
       "0   418,49 €       TEKA               37,00 €   3 Años  188 Centímetros   \n",
       "1   393,49 €    INDESIT               37,00 €   3 Años  180 Centímetros   \n",
       "2   437,49 €    INDESIT               37,00 €   3 Años  189 Centímetros   \n",
       "3   406,49 €       TEKA               37,00 €   3 Años  188 Centímetros   \n",
       "4   455,20 €  KROMSLINE               37,00 €   5 Años  185 Centímetros   \n",
       "\n",
       "    Anchuraexacta Númerodepuertas Tipodeinstalación ConsumoAnualdeEnergía  \\\n",
       "0  60 Centímetros       2 Puertas             Libre           293 Kwh/Año   \n",
       "1  70 Centímetros       2 Puertas             Libre           282 Kwh/Año   \n",
       "2  60 Centímetros       2 Puertas             Libre           247 Kwh/Año   \n",
       "3  60 Centímetros       2 Puertas             Libre           293 Kwh/Año   \n",
       "4  60 Centímetros       2 Puertas             Libre           256 Kwh/Año   \n",
       "\n",
       "  Capacidadfrigorífico BaldasenRefrigerador EficienciaNueva     Profundidad  \\\n",
       "0           224 Litros             4 Baldas               F  64 Centímetros   \n",
       "1           333 Litros             5 Baldas               F  69 Centímetros   \n",
       "2           230 Litros             4 Baldas               E  66 Centímetros   \n",
       "3           224 Litros                  NaN               F  64 Centímetros   \n",
       "4           211 Litros             4 Baldas               E  66 Centímetros   \n",
       "\n",
       "           Ruido Refrigeración Color/material  \n",
       "0  41 Decibelios      No Frost           Inox  \n",
       "1  44 Decibelios       Cíclico         Blanco  \n",
       "2  40 Decibelios       Cíclico           Inox  \n",
       "3  41 Decibelios      No Frost         Blanco  \n",
       "4  41 Decibelios      No Frost         Blanco  "
      ]
     },
     "execution_count": 12,
     "metadata": {},
     "output_type": "execute_result"
    }
   ],
   "source": [
    "# Mostrem els primer valors\n",
    "raw_df[['price','marca','product-sending-value','Garantía','Alturaexacta','Anchuraexacta','Númerodepuertas','Tipodeinstalación','ConsumoAnualdeEnergía','Capacidadfrigorífico','BaldasenRefrigerador','EficienciaNueva','Profundidad','Ruido','Refrigeración','Color/material']].head()"
   ]
  },
  {
   "cell_type": "code",
   "execution_count": 121,
   "id": "9c3cf5f9",
   "metadata": {},
   "outputs": [],
   "source": [
    "# Seleccionem i addecuem el format\n",
    "selected_df['precio'] = raw_df['price'].str.replace('.', '').str.replace(',', '.').str.replace(' €', '').astype(float)\n",
    "selected_df['marca'] = raw_df['marca']\n",
    "selected_df['gastos_envio'] = raw_df['product-sending-value'].str.replace('.', '').str.replace(',', '.').str.replace(' €', '').astype(float)\n",
    "selected_df['garantía'] = raw_df['Garantía'].str.replace(' Años', '').astype('Int64')\n",
    "selected_df['altura'] = raw_df['Alturaexacta'].str.replace('.', '').str.replace(' Centímetros', '').astype('Int64')\n",
    "selected_df['anchura'] = raw_df['Anchuraexacta'].str.replace('.', '').str.replace(' Centímetros', '').astype('Int64')\n",
    "selected_df['profundidad'] = raw_df['Profundidad'].str.replace(' Centímetros', '').astype('Int64')\n",
    "selected_df['capacidad'] = raw_df['Capacidadfrigorífico'].str.replace(' Litros', '').str.replace('\\\\r', '').astype('Int64')\n",
    "selected_df['puertas'] = raw_df['Númerodepuertas'].str.replace(\" Puertas\", \"\").astype('Int64')\n",
    "selected_df['baldas'] = raw_df['BaldasenRefrigerador'].str.replace(' Baldas', '').str.replace(' ', '').astype('Int64')\n",
    "selected_df['instalación'] = raw_df['Tipodeinstalación'].str.replace(' ', '')\n",
    "selected_df['consumo_anual'] = raw_df['ConsumoAnualdeEnergía'].str.replace(' Kwh/Año', '').astype('Int64')\n",
    "selected_df['eficiencia'] = raw_df['EficienciaNueva'].str.replace(' ', '')\n",
    "selected_df['ruido'] = raw_df['Ruido'].str.replace(' Decibelios', '').astype('Int64')\n",
    "selected_df['refrigeración'] = raw_df['Refrigeración'].str.replace(\" \", \"\")\n",
    "selected_df['color'] = raw_df['Color/material'].str.replace(\" \", \"\")"
   ]
  },
  {
   "cell_type": "code",
   "execution_count": 122,
   "id": "0851737f",
   "metadata": {},
   "outputs": [
    {
     "data": {
      "text/html": [
       "<div>\n",
       "<style scoped>\n",
       "    .dataframe tbody tr th:only-of-type {\n",
       "        vertical-align: middle;\n",
       "    }\n",
       "\n",
       "    .dataframe tbody tr th {\n",
       "        vertical-align: top;\n",
       "    }\n",
       "\n",
       "    .dataframe thead th {\n",
       "        text-align: right;\n",
       "    }\n",
       "</style>\n",
       "<table border=\"1\" class=\"dataframe\">\n",
       "  <thead>\n",
       "    <tr style=\"text-align: right;\">\n",
       "      <th></th>\n",
       "      <th>precio</th>\n",
       "      <th>marca</th>\n",
       "      <th>gastos_envio</th>\n",
       "      <th>garantía</th>\n",
       "      <th>altura</th>\n",
       "      <th>anchura</th>\n",
       "      <th>profundidad</th>\n",
       "      <th>capacidad</th>\n",
       "      <th>puertas</th>\n",
       "      <th>baldas</th>\n",
       "      <th>instalación</th>\n",
       "      <th>consumo_anual</th>\n",
       "      <th>eficiencia</th>\n",
       "      <th>ruido</th>\n",
       "      <th>refrigeración</th>\n",
       "      <th>color</th>\n",
       "    </tr>\n",
       "  </thead>\n",
       "  <tbody>\n",
       "    <tr>\n",
       "      <th>0</th>\n",
       "      <td>418.49</td>\n",
       "      <td>TEKA</td>\n",
       "      <td>37.0</td>\n",
       "      <td>3</td>\n",
       "      <td>188</td>\n",
       "      <td>60</td>\n",
       "      <td>64</td>\n",
       "      <td>224</td>\n",
       "      <td>2</td>\n",
       "      <td>4</td>\n",
       "      <td>Libre</td>\n",
       "      <td>293</td>\n",
       "      <td>F</td>\n",
       "      <td>41</td>\n",
       "      <td>NoFrost</td>\n",
       "      <td>Inox</td>\n",
       "    </tr>\n",
       "    <tr>\n",
       "      <th>1</th>\n",
       "      <td>393.49</td>\n",
       "      <td>INDESIT</td>\n",
       "      <td>37.0</td>\n",
       "      <td>3</td>\n",
       "      <td>180</td>\n",
       "      <td>70</td>\n",
       "      <td>69</td>\n",
       "      <td>333</td>\n",
       "      <td>2</td>\n",
       "      <td>5</td>\n",
       "      <td>Libre</td>\n",
       "      <td>282</td>\n",
       "      <td>F</td>\n",
       "      <td>44</td>\n",
       "      <td>Cíclico</td>\n",
       "      <td>Blanco</td>\n",
       "    </tr>\n",
       "    <tr>\n",
       "      <th>2</th>\n",
       "      <td>437.49</td>\n",
       "      <td>INDESIT</td>\n",
       "      <td>37.0</td>\n",
       "      <td>3</td>\n",
       "      <td>189</td>\n",
       "      <td>60</td>\n",
       "      <td>66</td>\n",
       "      <td>230</td>\n",
       "      <td>2</td>\n",
       "      <td>4</td>\n",
       "      <td>Libre</td>\n",
       "      <td>247</td>\n",
       "      <td>E</td>\n",
       "      <td>40</td>\n",
       "      <td>Cíclico</td>\n",
       "      <td>Inox</td>\n",
       "    </tr>\n",
       "    <tr>\n",
       "      <th>3</th>\n",
       "      <td>406.49</td>\n",
       "      <td>TEKA</td>\n",
       "      <td>37.0</td>\n",
       "      <td>3</td>\n",
       "      <td>188</td>\n",
       "      <td>60</td>\n",
       "      <td>64</td>\n",
       "      <td>224</td>\n",
       "      <td>2</td>\n",
       "      <td>&lt;NA&gt;</td>\n",
       "      <td>Libre</td>\n",
       "      <td>293</td>\n",
       "      <td>F</td>\n",
       "      <td>41</td>\n",
       "      <td>NoFrost</td>\n",
       "      <td>Blanco</td>\n",
       "    </tr>\n",
       "    <tr>\n",
       "      <th>4</th>\n",
       "      <td>455.20</td>\n",
       "      <td>KROMSLINE</td>\n",
       "      <td>37.0</td>\n",
       "      <td>5</td>\n",
       "      <td>185</td>\n",
       "      <td>60</td>\n",
       "      <td>66</td>\n",
       "      <td>211</td>\n",
       "      <td>2</td>\n",
       "      <td>4</td>\n",
       "      <td>Libre</td>\n",
       "      <td>256</td>\n",
       "      <td>E</td>\n",
       "      <td>41</td>\n",
       "      <td>NoFrost</td>\n",
       "      <td>Blanco</td>\n",
       "    </tr>\n",
       "  </tbody>\n",
       "</table>\n",
       "</div>"
      ],
      "text/plain": [
       "   precio      marca  gastos_envio  garantía  altura  anchura  profundidad  \\\n",
       "0  418.49       TEKA          37.0         3     188       60           64   \n",
       "1  393.49    INDESIT          37.0         3     180       70           69   \n",
       "2  437.49    INDESIT          37.0         3     189       60           66   \n",
       "3  406.49       TEKA          37.0         3     188       60           64   \n",
       "4  455.20  KROMSLINE          37.0         5     185       60           66   \n",
       "\n",
       "   capacidad  puertas  baldas instalación  consumo_anual eficiencia  ruido  \\\n",
       "0        224        2       4       Libre            293          F     41   \n",
       "1        333        2       5       Libre            282          F     44   \n",
       "2        230        2       4       Libre            247          E     40   \n",
       "3        224        2    <NA>       Libre            293          F     41   \n",
       "4        211        2       4       Libre            256          E     41   \n",
       "\n",
       "  refrigeración   color  \n",
       "0       NoFrost    Inox  \n",
       "1       Cíclico  Blanco  \n",
       "2       Cíclico    Inox  \n",
       "3       NoFrost  Blanco  \n",
       "4       NoFrost  Blanco  "
      ]
     },
     "execution_count": 122,
     "metadata": {},
     "output_type": "execute_result"
    }
   ],
   "source": [
    "# Mostrem els primer valors\n",
    "selected_df.head()"
   ]
  },
  {
   "cell_type": "code",
   "execution_count": 123,
   "id": "9bf6a468",
   "metadata": {},
   "outputs": [
    {
     "data": {
      "text/plain": [
       "precio           float64\n",
       "marca             object\n",
       "gastos_envio     float64\n",
       "garantía           Int64\n",
       "altura             Int64\n",
       "anchura            Int64\n",
       "profundidad        Int64\n",
       "capacidad          Int64\n",
       "puertas            Int64\n",
       "baldas             Int64\n",
       "instalación       object\n",
       "consumo_anual      Int64\n",
       "eficiencia        object\n",
       "ruido              Int64\n",
       "refrigeración     object\n",
       "color             object\n",
       "dtype: object"
      ]
     },
     "execution_count": 123,
     "metadata": {},
     "output_type": "execute_result"
    }
   ],
   "source": [
    "selected_df.dtypes"
   ]
  },
  {
   "cell_type": "markdown",
   "id": "28f88099",
   "metadata": {},
   "source": [
    "Comentari:"
   ]
  },
  {
   "cell_type": "markdown",
   "id": "7f4b3d54",
   "metadata": {},
   "source": [
    "## Gestió dels valors nuls i valors extrems"
   ]
  },
  {
   "cell_type": "markdown",
   "id": "dd8a967b",
   "metadata": {},
   "source": [
    "Anem a visualitzar primer les diferents variables que hem seleccionat, quants valors nuls tenen i els seus valors únics per poder decidir com treballar-los individualment."
   ]
  },
  {
   "cell_type": "code",
   "execution_count": 124,
   "id": "cbadb427",
   "metadata": {},
   "outputs": [
    {
     "name": "stdout",
     "output_type": "stream",
     "text": [
      "\n",
      " precio té 0 NULLS\n",
      "\n",
      " marca té 0 NULLS\n",
      "SMEG                112\n",
      "BOSCH                83\n",
      "BALAY                66\n",
      "LG                   52\n",
      "TEKA                 35\n",
      "ROMMER               33\n",
      "INDESIT              24\n",
      "KROMSLINE            20\n",
      "WINIA                16\n",
      "BEKO                 15\n",
      "ARISTON HOTPOINT     13\n",
      "SIEMENS              10\n",
      "FAGOR                 4\n",
      "CATA                  2\n",
      "EDESA                 1\n",
      "NIBELS                1\n",
      "BUTSIR                1\n",
      "Name: marca, dtype: int64\n",
      "\n",
      " gastos_envio té 0 NULLS\n",
      "37.0    443\n",
      "78.0     45\n",
      "Name: gastos_envio, dtype: int64\n",
      "\n",
      " garantía té 5 NULLS\n",
      "3     464\n",
      "5      17\n",
      "10      2\n",
      "Name: garantía, dtype: Int64\n",
      "\n",
      " altura té 5 NULLS\n",
      "\n",
      " anchura té 5 NULLS\n",
      "\n",
      " profundidad té 23 NULLS\n",
      "\n",
      " capacidad té 12 NULLS\n",
      "\n",
      " puertas té 8 NULLS\n",
      "2    355\n",
      "1     96\n",
      "4     24\n",
      "0      3\n",
      "3      2\n",
      "Name: puertas, dtype: Int64\n",
      "\n",
      " baldas té 16 NULLS\n",
      "4    177\n",
      "3    132\n",
      "5    126\n",
      "7     16\n",
      "2     11\n",
      "6      9\n",
      "0      1\n",
      "Name: baldas, dtype: Int64\n",
      "\n",
      " instalación té 9 NULLS\n",
      "Libre         455\n",
      "Integrable     24\n",
      "Name: instalación, dtype: int64\n",
      "\n",
      " consumo_anual té 12 NULLS\n",
      "\n",
      " eficiencia té 22 NULLS\n",
      "E    180\n",
      "F    125\n",
      "D    125\n",
      "C     29\n",
      "B      6\n",
      "A      1\n",
      "Name: eficiencia, dtype: int64\n",
      "\n",
      " ruido té 24 NULLS\n",
      "39     88\n",
      "35     75\n",
      "41     62\n",
      "37     56\n",
      "40     55\n",
      "36     51\n",
      "42     33\n",
      "38     21\n",
      "33      6\n",
      "44      5\n",
      "43      3\n",
      "45      3\n",
      "34      2\n",
      "254     1\n",
      "74      1\n",
      "29      1\n",
      "59      1\n",
      "Name: ruido, dtype: Int64\n",
      "\n",
      " refrigeración té 25 NULLS\n",
      "NoFrost     309\n",
      "Cíclico     121\n",
      "Estático     29\n",
      "LowFrost      2\n",
      "Defrost       2\n",
      "Name: refrigeración, dtype: int64\n",
      "\n",
      " color té 25 NULLS\n",
      "Inox         181\n",
      "Blanco       159\n",
      "Negro         33\n",
      "Azul          13\n",
      "Crema         13\n",
      "Gris          11\n",
      "Verde          9\n",
      "Antracita      8\n",
      "Rojo           7\n",
      "Naranja        7\n",
      "Rosa           6\n",
      "Plata          5\n",
      "Lima           4\n",
      "Amarillo       3\n",
      "AceroMate      2\n",
      "Marrón         2\n",
      "Name: color, dtype: int64\n"
     ]
    }
   ],
   "source": [
    "i = 0\n",
    "for line in selected_df.isnull().sum():\n",
    "    colname = selected_df.columns[i]\n",
    "    print(\"\\n\", colname, \"té\", line, \"NULLS\")\n",
    "    if len(selected_df[colname].unique()) <=25:\n",
    "        print(selected_df[colname].value_counts())\n",
    "    i += 1"
   ]
  },
  {
   "cell_type": "markdown",
   "id": "5be2251f",
   "metadata": {},
   "source": [
    "Tenim 4 casos diferents:\n",
    "- La variable no té valors nuls.\n",
    "- La variable té un valor predominant que podem assignar per defecte. Per exemple els costos d'enviament solen ser en la majoria dels casos de 37€.\n",
    "- La variable té una distribució més equilibrada entre les categories i no hi podem assignar cap valor. Un exemple seria la distribució de colors de les neveres.\n",
    "- La variable és numèrica i podem fer servir estadística per trobar el seu valor. Com ara en el cas de l'alçada o amplada."
   ]
  },
  {
   "cell_type": "markdown",
   "id": "beef6ebe",
   "metadata": {},
   "source": [
    "En el cas dels outliers visualitzarem els valors únics de les variables numèriques per veure els casos concrets."
   ]
  },
  {
   "cell_type": "code",
   "execution_count": 125,
   "id": "44cf62d8",
   "metadata": {},
   "outputs": [],
   "source": [
    "def search_outliers(column):\n",
    "    selected_df_column = selected_df[column].dropna().unique()\n",
    "    z_scores = (selected_df_column - np.mean(selected_df_column)) / np.std(selected_df_column)\n",
    "    outlier_threshold = 3\n",
    "    outliers = selected_df_column[np.abs(z_scores) > outlier_threshold]\n",
    "    return outliers.tolist()\n"
   ]
  },
  {
   "cell_type": "code",
   "execution_count": 126,
   "id": "f8f09357",
   "metadata": {},
   "outputs": [
    {
     "name": "stdout",
     "output_type": "stream",
     "text": [
      "precio [9317.08, 4493.78, 3943.18, 4936.49]\n",
      "altura [2030]\n",
      "anchura [540]\n",
      "profundidad [815]\n",
      "capacidad []\n",
      "ruido [254]\n"
     ]
    }
   ],
   "source": [
    "for column in [\"precio\", \"altura\", \"anchura\", \"profundidad\", \"capacidad\", \"ruido\"]:\n",
    "    print(column, search_outliers(column))"
   ]
  },
  {
   "cell_type": "markdown",
   "id": "4ebdd86f",
   "metadata": {},
   "source": [
    "En el cas del preu, no obtenim valors gaire descabellats però anem a analitzar els altres casos individualment.\n",
    "\n",
    "En el cas de les dimensions de les neveres veiem que en aquests casos concrets hi ha hagut un error en les unitats afegint un 0 de més. Veiem que en aquest cas en les dades originals el rang de les dimensions és correcte mentre que les mesures exactes no."
   ]
  },
  {
   "cell_type": "code",
   "execution_count": 127,
   "id": "80b05e8e",
   "metadata": {},
   "outputs": [
    {
     "data": {
      "text/html": [
       "<div>\n",
       "<style scoped>\n",
       "    .dataframe tbody tr th:only-of-type {\n",
       "        vertical-align: middle;\n",
       "    }\n",
       "\n",
       "    .dataframe tbody tr th {\n",
       "        vertical-align: top;\n",
       "    }\n",
       "\n",
       "    .dataframe thead th {\n",
       "        text-align: right;\n",
       "    }\n",
       "</style>\n",
       "<table border=\"1\" class=\"dataframe\">\n",
       "  <thead>\n",
       "    <tr style=\"text-align: right;\">\n",
       "      <th></th>\n",
       "      <th>Altura</th>\n",
       "      <th>Alturaexacta</th>\n",
       "    </tr>\n",
       "  </thead>\n",
       "  <tbody>\n",
       "    <tr>\n",
       "      <th>199</th>\n",
       "      <td>Mayor de 200 cm</td>\n",
       "      <td>2.030 Centímetros</td>\n",
       "    </tr>\n",
       "    <tr>\n",
       "      <th>413</th>\n",
       "      <td>50 a 100 cm</td>\n",
       "      <td>970 Centímetros</td>\n",
       "    </tr>\n",
       "  </tbody>\n",
       "</table>\n",
       "</div>"
      ],
      "text/plain": [
       "              Altura       Alturaexacta\n",
       "199  Mayor de 200 cm  2.030 Centímetros\n",
       "413      50 a 100 cm    970 Centímetros"
      ]
     },
     "execution_count": 127,
     "metadata": {},
     "output_type": "execute_result"
    }
   ],
   "source": [
    "raw_df[[\"Altura\", \"Alturaexacta\"]].loc[selected_df['altura'] >= 970]"
   ]
  },
  {
   "cell_type": "code",
   "execution_count": 128,
   "id": "9165a01f",
   "metadata": {},
   "outputs": [
    {
     "data": {
      "text/html": [
       "<div>\n",
       "<style scoped>\n",
       "    .dataframe tbody tr th:only-of-type {\n",
       "        vertical-align: middle;\n",
       "    }\n",
       "\n",
       "    .dataframe tbody tr th {\n",
       "        vertical-align: top;\n",
       "    }\n",
       "\n",
       "    .dataframe thead th {\n",
       "        text-align: right;\n",
       "    }\n",
       "</style>\n",
       "<table border=\"1\" class=\"dataframe\">\n",
       "  <thead>\n",
       "    <tr style=\"text-align: right;\">\n",
       "      <th></th>\n",
       "      <th>Anchura</th>\n",
       "      <th>Anchuraexacta</th>\n",
       "    </tr>\n",
       "  </thead>\n",
       "  <tbody>\n",
       "    <tr>\n",
       "      <th>447</th>\n",
       "      <td>51 a 54 cm</td>\n",
       "      <td>540 Centímetros</td>\n",
       "    </tr>\n",
       "  </tbody>\n",
       "</table>\n",
       "</div>"
      ],
      "text/plain": [
       "        Anchura    Anchuraexacta\n",
       "447  51 a 54 cm  540 Centímetros"
      ]
     },
     "execution_count": 128,
     "metadata": {},
     "output_type": "execute_result"
    }
   ],
   "source": [
    "raw_df[[\"Anchura\", \"Anchuraexacta\"]].loc[selected_df['anchura'] >= 540]"
   ]
  },
  {
   "cell_type": "markdown",
   "id": "ab783e94",
   "metadata": {},
   "source": [
    "En el cas de la profunditat veiem que tot i que no tenim una variable categòrica per comparar, veient la resta de dimensions de la nevera podem asumir que succeeix el mateix."
   ]
  },
  {
   "cell_type": "code",
   "execution_count": 129,
   "id": "57e2c482",
   "metadata": {},
   "outputs": [
    {
     "data": {
      "text/html": [
       "<div>\n",
       "<style scoped>\n",
       "    .dataframe tbody tr th:only-of-type {\n",
       "        vertical-align: middle;\n",
       "    }\n",
       "\n",
       "    .dataframe tbody tr th {\n",
       "        vertical-align: top;\n",
       "    }\n",
       "\n",
       "    .dataframe thead th {\n",
       "        text-align: right;\n",
       "    }\n",
       "</style>\n",
       "<table border=\"1\" class=\"dataframe\">\n",
       "  <thead>\n",
       "    <tr style=\"text-align: right;\">\n",
       "      <th></th>\n",
       "      <th>Alturaexacta</th>\n",
       "      <th>Anchuraexacta</th>\n",
       "      <th>Profundidad</th>\n",
       "    </tr>\n",
       "  </thead>\n",
       "  <tbody>\n",
       "    <tr>\n",
       "      <th>360</th>\n",
       "      <td>87 Centímetros</td>\n",
       "      <td>128 Centímetros</td>\n",
       "      <td>815 Centímetros</td>\n",
       "    </tr>\n",
       "  </tbody>\n",
       "</table>\n",
       "</div>"
      ],
      "text/plain": [
       "       Alturaexacta    Anchuraexacta      Profundidad\n",
       "360  87 Centímetros  128 Centímetros  815 Centímetros"
      ]
     },
     "execution_count": 129,
     "metadata": {},
     "output_type": "execute_result"
    }
   ],
   "source": [
    "raw_df[[\"Alturaexacta\", \"Anchuraexacta\", \"Profundidad\"]].loc[selected_df['profundidad'] >= 815]"
   ]
  },
  {
   "cell_type": "code",
   "execution_count": 130,
   "id": "7b37128c",
   "metadata": {},
   "outputs": [
    {
     "name": "stdout",
     "output_type": "stream",
     "text": [
      "altura [2]\n",
      "anchura [179]\n",
      "profundidad [0]\n"
     ]
    }
   ],
   "source": [
    "selected_df.loc[selected_df['altura'] >= 970, 'altura'] /= 10\n",
    "selected_df.loc[selected_df['anchura'] >= 540, 'anchura'] /= 10\n",
    "selected_df.loc[selected_df['profundidad'] >= 815, 'profundidad'] = np.ceil(selected_df.loc[selected_df['profundidad'] >= 815, 'profundidad'] / 10)\n",
    "for column in [\"altura\", \"anchura\", \"profundidad\"]:\n",
    "    print(column, search_outliers(column))"
   ]
  },
  {
   "cell_type": "code",
   "execution_count": null,
   "id": "78355c05",
   "metadata": {},
   "outputs": [],
   "source": [
    "# Repetim per les altres columnes\n",
    "raw_df['val-points'] = raw_df['val-points'].str.replace(',', '.').astype(float)\n",
    "raw_df['val-quantity'] = raw_df['val-quantity'].str.replace('(', '').str.replace(')', '').astype(int)\n",
    "raw_df['product-sending-value'] = raw_df['product-sending-value'].str.replace('.', '').str.replace(',', '.').str.replace(' €', '').astype(float)"
   ]
  },
  {
   "cell_type": "code",
   "execution_count": null,
   "id": "8f9effad",
   "metadata": {},
   "outputs": [],
   "source": [
    "raw_df['Refrigeración'] = raw_df['Refrigeración'].str.replace(\" \", \"\").fillna(\"NoFrost\")\n",
    "raw_df['Númerodepuertas'] = raw_df['Númerodepuertas'].str.replace(\" Puertas\", \"\").fillna(\"2\").astype(int)\n",
    "raw_df['Tipodeinstalación'] = raw_df['Tipodeinstalación'].str.replace(' ', '')\n",
    "raw_df['Cajones/Cestas'] = raw_df['Cajones/Cestas'].str.replace(\" Cajoneras\", \"\").fillna(\"2\").astype(int)\n",
    "raw_df['Iluminación'] = raw_df['Iluminación'].fillna(\"Unknown\")\n",
    "raw_df['Color/material'] = raw_df['Color/material'].str.replace(\" \", \"\").fillna(\"Unknown\")\n",
    "raw_df['Tirador'] = raw_df['Tirador'].str.replace(\" \", \"\").fillna(\"Unknown\")\n",
    "raw_df['Alimentación'] = raw_df['Alimentación'].str.replace('V', '').str.replace(' ', '').fillna(\"230\").astype(int)\n",
    "raw_df['EficienciaNueva'] = raw_df['EficienciaNueva'].str.replace(' ', '').fillna(\"E\")\n",
    "raw_df['ConsumoAnualdeEnergía'] = raw_df['ConsumoAnualdeEnergía'].str.replace(' Kwh/Año', '')\n",
    "average = raw_df['ConsumoAnualdeEnergía'].dropna().astype(float).mean()\n",
    "raw_df['ConsumoAnualdeEnergía'] = raw_df['ConsumoAnualdeEnergía'].fillna(average).astype(int)\n",
    "\n",
    "raw_df['Ruido'] = raw_df['Ruido'].str.replace(' Decibelios', '')\n",
    "ruidocol = raw_df['Ruido'].replace(\"254\", np.nan).dropna().astype(float)\n",
    "linear_values = 10 ** (ruidocol / 10)\n",
    "average_decibel = 10 * np.log10(np.mean(linear_values))\n",
    "raw_df['Ruido'] = raw_df['Ruido'].fillna(average_decibel).astype(int)\n",
    "\n",
    "\n",
    "raw_df['Alturaexacta'] = raw_df['Alturaexacta'].str.replace(' Centímetros', '') #falta gestionar NULLS i convertir a INT\n",
    "raw_df['Anchuraexacta'] = raw_df['Anchuraexacta'].str.replace(' Centímetros', '') #falta gestionar NULLS i convertir a INT\n",
    "raw_df['Profundidad'] = raw_df['Profundidad'].str.replace(' Centímetros', '') #falta gestionar NULLS i convertir a INT\n",
    "raw_df['Garantía'] = raw_df['Garantía'].str.replace(' Años', '').fillna('3').astype(int)\n",
    "raw_df['BaldasenRefrigerador'] = raw_df['BaldasenRefrigerador'].str.replace(' Baldas', '').str.replace(' ', '') #falta gestionar NULLS i convertir a INT\n",
    "raw_df['Capacidadfrigorífico'] = raw_df['Capacidadfrigorífico'].str.replace(' Litros', '').str.replace('\\\\r', '') #falta gestionar NULLS i convertir a INT\n",
    "\n",
    "i = 0\n",
    "for line in raw_df.isnull().sum():\n",
    "    if line < 50:\n",
    "        colname = raw_df.columns[i]\n",
    "        print(colname, \"has\", line, \"NULLS\")\n",
    "        print(raw_df[colname].unique(), \"\\n\")\n",
    "    i += 1"
   ]
  },
  {
   "cell_type": "code",
   "execution_count": null,
   "id": "28b16aec",
   "metadata": {},
   "outputs": [],
   "source": []
  },
  {
   "cell_type": "code",
   "execution_count": null,
   "id": "7371d3b4",
   "metadata": {},
   "outputs": [],
   "source": []
  }
 ],
 "metadata": {
  "kernelspec": {
   "display_name": "Python 3 (ipykernel)",
   "language": "python",
   "name": "python3"
  },
  "language_info": {
   "codemirror_mode": {
    "name": "ipython",
    "version": 3
   },
   "file_extension": ".py",
   "mimetype": "text/x-python",
   "name": "python",
   "nbconvert_exporter": "python",
   "pygments_lexer": "ipython3",
   "version": "3.10.9"
  }
 },
 "nbformat": 4,
 "nbformat_minor": 5
}
