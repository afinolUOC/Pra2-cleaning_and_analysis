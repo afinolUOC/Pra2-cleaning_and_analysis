{
 "cells": [
  {
   "cell_type": "code",
   "execution_count": 1,
   "id": "e7e3bdd0",
   "metadata": {},
   "outputs": [],
   "source": [
    "import pandas as pd\n",
    "import numpy as np\n",
    "import warnings\n",
    "import matplotlib.pyplot as plt\n",
    "from scipy import stats\n",
    "\n",
    "warnings.simplefilter(action='ignore', category=FutureWarning)"
   ]
  },
  {
   "cell_type": "markdown",
   "id": "d4a3268a",
   "metadata": {},
   "source": [
    "# 1 Introducció / Presentació del dataset\n",
    "Comentari origen del dataset i objectiu del mateix. Quina pregunta intenta respondre."
   ]
  },
  {
   "cell_type": "code",
   "execution_count": 2,
   "id": "656f5213",
   "metadata": {},
   "outputs": [],
   "source": [
    "# Read csv file\n",
    "raw_df = pd.read_csv('neveras.csv', decimal=\",\")"
   ]
  },
  {
   "cell_type": "code",
   "execution_count": 3,
   "id": "fa54e51a",
   "metadata": {},
   "outputs": [
    {
     "name": "stdout",
     "output_type": "stream",
     "text": [
      "El data frame conté 488 mostres.\n",
      "Cada mostra disposa de 136 atributs\n"
     ]
    }
   ],
   "source": [
    "#Rows and columns info\n",
    "print(f'El data frame conté {len(raw_df.index)} mostres.')\n",
    "print(f'Cada mostra disposa de {len(raw_df.columns)} atributs')"
   ]
  },
  {
   "cell_type": "markdown",
   "id": "045e58c2",
   "metadata": {},
   "source": [
    "Disposem de 136 variables, aquest és un nombre considerable de variables i per tant sera inevitable prescindir de moltes d'elles. En el que segeix de treball seleccionarem les variables que aporten més informació i les que puguin ser d'utilitat per tal de transformar el dataset cru del que partim en un dataset net llest per a la creacció de models. "
   ]
  },
  {
   "cell_type": "code",
   "execution_count": 4,
   "id": "aab61456",
   "metadata": {
    "scrolled": false
   },
   "outputs": [
    {
     "data": {
      "text/plain": [
       "product-name               0\n",
       "product-sending-value      0\n",
       "val-quantity               0\n",
       "val-points                 0\n",
       "date                       0\n",
       "ref                        0\n",
       "price                      0\n",
       "product-type               0\n",
       "marca                      0\n",
       "Garantía                   5\n",
       "Anchuraexacta              5\n",
       "Alturaexacta               5\n",
       "Númerodepuertas            8\n",
       "Tipodeinstalación          9\n",
       "Alimentación              10\n",
       "ConsumoAnualdeEnergía     12\n",
       "Altura                    12\n",
       "Capacidadfrigorífico      12\n",
       "Anchura                   13\n",
       "BaldasenRefrigerador      16\n",
       "EficienciaNueva           22\n",
       "Profundidad               23\n",
       "Ruido                     24\n",
       "Color/material            25\n",
       "Refrigeración             25\n",
       "ReguladordeTemperatura    35\n",
       "Tirador                   39\n",
       "Cajones/Cestas            43\n",
       "Peso                      45\n",
       "Iluminación               47\n",
       "PosicióndelosControles    49\n",
       "dtype: int64"
      ]
     },
     "execution_count": 4,
     "metadata": {},
     "output_type": "execute_result"
    }
   ],
   "source": [
    "# Var list and missig values\n",
    "missing_values = raw_df.isna().sum()\n",
    "missing_values[missing_values < 50].sort_values()"
   ]
  },
  {
   "cell_type": "markdown",
   "id": "fe278e10",
   "metadata": {},
   "source": [
    "Moltes variables contenen força valors nuls. Donat l'alt nombre de variables utilitzarem el nombre de valors nuls com a criteri per realitzar una subselecció de variables. En el que seguiex d'informe treballarem sobre les variables que contenen 25 o menys valor nuls. Aquest valor representa aproximadament un 5% de les mostres(488)."
   ]
  },
  {
   "cell_type": "markdown",
   "id": "91c5e9dc",
   "metadata": {},
   "source": [
    "# 2 Selecció de variables i adecució de format"
   ]
  },
  {
   "cell_type": "markdown",
   "id": "fae5f12a",
   "metadata": {},
   "source": [
    "En aquesta secció hem analitzat les 26 variables que passen el tall del nombre de valors nuls proposat. Primer de tot, s'exposen quines variables, que pasen el tall, també han estat descartades i els motius pels quals ens hem decantat per aquesta decisió en cada una d'elles. La resta de variables han estat considerades interesants per a seguir estudiant-les amb més profunditat, és per aixó que al final de la secció, hem adequat el format de cada una d'elles i les hem inclos en un nou dataframe anomenta selected_df."
   ]
  },
  {
   "cell_type": "markdown",
   "id": "0d61d3f5",
   "metadata": {},
   "source": [
    "## 2.1 Variables descartades"
   ]
  },
  {
   "cell_type": "markdown",
   "id": "f3ea00a3",
   "metadata": {},
   "source": [
    "Primer de tot mostrem els primer valors de les variables descartades per tal de fer-nos una idea de que conté cada una d'elles."
   ]
  },
  {
   "cell_type": "code",
   "execution_count": 5,
   "id": "5861baa4",
   "metadata": {
    "scrolled": true
   },
   "outputs": [
    {
     "data": {
      "text/html": [
       "<div>\n",
       "<style scoped>\n",
       "    .dataframe tbody tr th:only-of-type {\n",
       "        vertical-align: middle;\n",
       "    }\n",
       "\n",
       "    .dataframe tbody tr th {\n",
       "        vertical-align: top;\n",
       "    }\n",
       "\n",
       "    .dataframe thead th {\n",
       "        text-align: right;\n",
       "    }\n",
       "</style>\n",
       "<table border=\"1\" class=\"dataframe\">\n",
       "  <thead>\n",
       "    <tr style=\"text-align: right;\">\n",
       "      <th></th>\n",
       "      <th>0</th>\n",
       "      <th>1</th>\n",
       "      <th>2</th>\n",
       "      <th>3</th>\n",
       "      <th>4</th>\n",
       "    </tr>\n",
       "  </thead>\n",
       "  <tbody>\n",
       "    <tr>\n",
       "      <th>product-name</th>\n",
       "      <td>TEKA NFL 320 C INOX - Frigorífico Combi No Frost</td>\n",
       "      <td>INDESIT TAA 5 1 BLANCO - Frigorífico Dos Puert...</td>\n",
       "      <td>INDESIT LI8 SN2E X Inox - Frigorífico Combi No...</td>\n",
       "      <td>TEKA NFL-320 Blanco - Frigorífico Combi No Frost</td>\n",
       "      <td>KROMSLINE KC-185-DW BLANCO - Frigorífico Combi...</td>\n",
       "    </tr>\n",
       "    <tr>\n",
       "      <th>ref</th>\n",
       "      <td>115216026</td>\n",
       "      <td>14760137</td>\n",
       "      <td>14762233</td>\n",
       "      <td>115214386</td>\n",
       "      <td>702139949</td>\n",
       "    </tr>\n",
       "    <tr>\n",
       "      <th>product-type</th>\n",
       "      <td>frigorificos</td>\n",
       "      <td>frigorificos</td>\n",
       "      <td>frigorificos</td>\n",
       "      <td>frigorificos</td>\n",
       "      <td>frigorificos</td>\n",
       "    </tr>\n",
       "    <tr>\n",
       "      <th>date</th>\n",
       "      <td>2023-04-24</td>\n",
       "      <td>2023-04-24</td>\n",
       "      <td>2023-04-24</td>\n",
       "      <td>2023-04-24</td>\n",
       "      <td>2023-04-24</td>\n",
       "    </tr>\n",
       "    <tr>\n",
       "      <th>Alimentación</th>\n",
       "      <td>230V</td>\n",
       "      <td>230V</td>\n",
       "      <td>230V</td>\n",
       "      <td>230V</td>\n",
       "      <td>230V</td>\n",
       "    </tr>\n",
       "    <tr>\n",
       "      <th>val-quantity</th>\n",
       "      <td>(20)</td>\n",
       "      <td>(6)</td>\n",
       "      <td>(2)</td>\n",
       "      <td>(12)</td>\n",
       "      <td>(0)</td>\n",
       "    </tr>\n",
       "    <tr>\n",
       "      <th>val-points</th>\n",
       "      <td>4.7</td>\n",
       "      <td>4.83</td>\n",
       "      <td>5.0</td>\n",
       "      <td>4.73</td>\n",
       "      <td>0.0</td>\n",
       "    </tr>\n",
       "    <tr>\n",
       "      <th>Altura</th>\n",
       "      <td>181 a 190</td>\n",
       "      <td>176 a 180 cm</td>\n",
       "      <td>181 a 190</td>\n",
       "      <td>181 a 190</td>\n",
       "      <td>181 a 190</td>\n",
       "    </tr>\n",
       "    <tr>\n",
       "      <th>Anchura</th>\n",
       "      <td>55 a 60 cm</td>\n",
       "      <td>66 a 70 cm</td>\n",
       "      <td>55 a 60 cm</td>\n",
       "      <td>55 a 60 cm</td>\n",
       "      <td>55 a 60 cm</td>\n",
       "    </tr>\n",
       "  </tbody>\n",
       "</table>\n",
       "</div>"
      ],
      "text/plain": [
       "                                                             0  \\\n",
       "product-name  TEKA NFL 320 C INOX - Frigorífico Combi No Frost   \n",
       "ref                                                  115216026   \n",
       "product-type                                      frigorificos   \n",
       "date                                                2023-04-24   \n",
       "Alimentación                                              230V   \n",
       "val-quantity                                              (20)   \n",
       "val-points                                                 4.7   \n",
       "Altura                                               181 a 190   \n",
       "Anchura                                             55 a 60 cm   \n",
       "\n",
       "                                                              1  \\\n",
       "product-name  INDESIT TAA 5 1 BLANCO - Frigorífico Dos Puert...   \n",
       "ref                                                    14760137   \n",
       "product-type                                       frigorificos   \n",
       "date                                                 2023-04-24   \n",
       "Alimentación                                               230V   \n",
       "val-quantity                                                (6)   \n",
       "val-points                                                 4.83   \n",
       "Altura                                             176 a 180 cm   \n",
       "Anchura                                              66 a 70 cm   \n",
       "\n",
       "                                                              2  \\\n",
       "product-name  INDESIT LI8 SN2E X Inox - Frigorífico Combi No...   \n",
       "ref                                                    14762233   \n",
       "product-type                                       frigorificos   \n",
       "date                                                 2023-04-24   \n",
       "Alimentación                                               230V   \n",
       "val-quantity                                                (2)   \n",
       "val-points                                                  5.0   \n",
       "Altura                                                181 a 190   \n",
       "Anchura                                              55 a 60 cm   \n",
       "\n",
       "                                                             3  \\\n",
       "product-name  TEKA NFL-320 Blanco - Frigorífico Combi No Frost   \n",
       "ref                                                  115214386   \n",
       "product-type                                      frigorificos   \n",
       "date                                                2023-04-24   \n",
       "Alimentación                                              230V   \n",
       "val-quantity                                              (12)   \n",
       "val-points                                                4.73   \n",
       "Altura                                               181 a 190   \n",
       "Anchura                                             55 a 60 cm   \n",
       "\n",
       "                                                              4  \n",
       "product-name  KROMSLINE KC-185-DW BLANCO - Frigorífico Combi...  \n",
       "ref                                                   702139949  \n",
       "product-type                                       frigorificos  \n",
       "date                                                 2023-04-24  \n",
       "Alimentación                                               230V  \n",
       "val-quantity                                                (0)  \n",
       "val-points                                                  0.0  \n",
       "Altura                                                181 a 190  \n",
       "Anchura                                              55 a 60 cm  "
      ]
     },
     "execution_count": 5,
     "metadata": {},
     "output_type": "execute_result"
    }
   ],
   "source": [
    "# Mostrem els primer valors de les variables descartades\n",
    "raw_df[['product-name','ref','product-type','date','Alimentación',\n",
    "        'val-quantity','val-points','Altura','Anchura']].head().transpose()"
   ]
  },
  {
   "cell_type": "markdown",
   "id": "1a051d9d",
   "metadata": {},
   "source": [
    "La variable product-name conte el nom del producte i la variable ref conté un valor numeric referencia al producte. Aquestes dues variables són una etiqueta identificativa i no constitueixen una caracteristica descriptiva de producte. Volem seleccionar les variables que descriuen el productes i per tant les descartem."
   ]
  },
  {
   "cell_type": "code",
   "execution_count": 6,
   "id": "7be9405d",
   "metadata": {},
   "outputs": [
    {
     "name": "stdout",
     "output_type": "stream",
     "text": [
      "['frigorificos']\n",
      "['2023-04-24']\n",
      "['230V' nan ' 230V' '230V ']\n"
     ]
    }
   ],
   "source": [
    "# Mostrem els valors únics\n",
    "print(raw_df['product-type'].unique())\n",
    "print(raw_df['date'].unique())\n",
    "print(raw_df['Alimentación'].unique())"
   ]
  },
  {
   "cell_type": "markdown",
   "id": "22973e40",
   "metadata": {},
   "source": [
    "Les variables product-type i date contenen un mateix valor per a totes mostres, degut a la manca de variancia no aporten informacó en la creació d'un futur model. Succeeix el mateix en el cas de la variable alimentació, totes els electrodomestics extrets d'aquesta font son per al mercat europeu i funcionen a una font d'alimentació de 230V."
   ]
  },
  {
   "cell_type": "markdown",
   "id": "b1a4768e",
   "metadata": {},
   "source": [
    "Les variables val-quantity i val-points estan estricatament relacionades, la variables val-quantity indica el nombre de valoracions total de cada producte, metre que val-points és la mitjana de les valoracions. Si un producte no te cap valoració se li assigna per defecte una nota mitja de 0."
   ]
  },
  {
   "cell_type": "code",
   "execution_count": 7,
   "id": "068c61d1",
   "metadata": {},
   "outputs": [],
   "source": [
    "# Netejem i guardem la variable val-quantity en una variable separada\n",
    "val_quantity = raw_df['val-quantity'].str.replace('(', '').str.replace(')', '').astype('Int64')"
   ]
  },
  {
   "cell_type": "code",
   "execution_count": 8,
   "id": "1e179481",
   "metadata": {},
   "outputs": [
    {
     "data": {
      "text/plain": [
       "0     428\n",
       "1      23\n",
       "2       9\n",
       "6       5\n",
       "3       5\n",
       "4       5\n",
       "10      3\n",
       "8       2\n",
       "5       2\n",
       "7       2\n",
       "20      1\n",
       "12      1\n",
       "13      1\n",
       "14      1\n",
       "Name: val-quantity, dtype: Int64"
      ]
     },
     "execution_count": 8,
     "metadata": {},
     "output_type": "execute_result"
    }
   ],
   "source": [
    "# Taula de freqüències\n",
    "val_quantity.value_counts()"
   ]
  },
  {
   "cell_type": "markdown",
   "id": "29c30c2e",
   "metadata": {},
   "source": [
    "Hi ha 428 items que no tenen cap valoració. La variable val-point ha passat el tall dels nuls degut a que en aquesta variable els valors nuls ha estat codificats amb el valor 0.\n",
    "\n",
    "Aquestes tipus de variables poden ser molts útils per a la creació d'un model ja que aporten l'opinió del clients sobre els productes. En aquest cas, degut a la manca generalitzada de valoracions considerem que els valors no resulten prou fiables per tenir-los en compte.\n"
   ]
  },
  {
   "cell_type": "markdown",
   "id": "8c3228d7",
   "metadata": {},
   "source": [
    "Observem a continuació els primer valors de les variables Alturaexacta i Altura."
   ]
  },
  {
   "cell_type": "code",
   "execution_count": 9,
   "id": "fff8d029",
   "metadata": {},
   "outputs": [
    {
     "data": {
      "text/html": [
       "<div>\n",
       "<style scoped>\n",
       "    .dataframe tbody tr th:only-of-type {\n",
       "        vertical-align: middle;\n",
       "    }\n",
       "\n",
       "    .dataframe tbody tr th {\n",
       "        vertical-align: top;\n",
       "    }\n",
       "\n",
       "    .dataframe thead th {\n",
       "        text-align: right;\n",
       "    }\n",
       "</style>\n",
       "<table border=\"1\" class=\"dataframe\">\n",
       "  <thead>\n",
       "    <tr style=\"text-align: right;\">\n",
       "      <th></th>\n",
       "      <th>Alturaexacta</th>\n",
       "      <th>Altura</th>\n",
       "    </tr>\n",
       "  </thead>\n",
       "  <tbody>\n",
       "    <tr>\n",
       "      <th>0</th>\n",
       "      <td>188 Centímetros</td>\n",
       "      <td>181 a 190</td>\n",
       "    </tr>\n",
       "    <tr>\n",
       "      <th>1</th>\n",
       "      <td>180 Centímetros</td>\n",
       "      <td>176 a 180 cm</td>\n",
       "    </tr>\n",
       "    <tr>\n",
       "      <th>2</th>\n",
       "      <td>189 Centímetros</td>\n",
       "      <td>181 a 190</td>\n",
       "    </tr>\n",
       "    <tr>\n",
       "      <th>3</th>\n",
       "      <td>188 Centímetros</td>\n",
       "      <td>181 a 190</td>\n",
       "    </tr>\n",
       "    <tr>\n",
       "      <th>4</th>\n",
       "      <td>185 Centímetros</td>\n",
       "      <td>181 a 190</td>\n",
       "    </tr>\n",
       "  </tbody>\n",
       "</table>\n",
       "</div>"
      ],
      "text/plain": [
       "      Alturaexacta        Altura\n",
       "0  188 Centímetros     181 a 190\n",
       "1  180 Centímetros  176 a 180 cm\n",
       "2  189 Centímetros     181 a 190\n",
       "3  188 Centímetros     181 a 190\n",
       "4  185 Centímetros     181 a 190"
      ]
     },
     "execution_count": 9,
     "metadata": {},
     "output_type": "execute_result"
    }
   ],
   "source": [
    "raw_df[['Alturaexacta','Altura']].head()"
   ]
  },
  {
   "cell_type": "markdown",
   "id": "8f69153e",
   "metadata": {},
   "source": [
    "A priori, les variables Alturaexacta i Altura representen la meteixa informació, amb la diferencia que una és una variable númerica i l'altre categorica. Calculem a continuació la correlació entre ambdues:"
   ]
  },
  {
   "cell_type": "code",
   "execution_count": 10,
   "id": "a7567189",
   "metadata": {},
   "outputs": [
    {
     "data": {
      "text/plain": [
       "0.886325742819265"
      ]
     },
     "execution_count": 10,
     "metadata": {},
     "output_type": "execute_result"
    }
   ],
   "source": [
    "aux_df = pd.DataFrame()\n",
    "aux_df[\"Altura\"] = pd.Categorical(raw_df[\"Altura\"])\n",
    "aux_df[\"Alturaexacta\"] = pd.Categorical(raw_df[\"Alturaexacta\"])\n",
    "\n",
    "corr = aux_df[\"Altura\"].cat.codes.corr(aux_df[\"Alturaexacta\"].cat.codes)\n",
    "\n",
    "corr"
   ]
  },
  {
   "cell_type": "markdown",
   "id": "74dbbab2",
   "metadata": {},
   "source": [
    "Com era d'esperar aquests dues variables tenen una correlació molt elevada Decidim descartar la variable altura ja que aporta una informació menys precisa, en forma de rang i conte més valors nuls.\n",
    "\n",
    "Es dona el mateix cas entre les variables Anchura i Anchuraexacta. Pel mateix motiu, decidim descartar la variable Anchura."
   ]
  },
  {
   "cell_type": "markdown",
   "id": "43acbe4c",
   "metadata": {},
   "source": [
    "## 2.2 Variables seleccionades i adeqüació del format"
   ]
  },
  {
   "cell_type": "markdown",
   "id": "db28f3f7",
   "metadata": {},
   "source": [
    "Creem un nou dataframe per guardar les variables que han estat seleccionades."
   ]
  },
  {
   "cell_type": "code",
   "execution_count": 11,
   "id": "914f5809",
   "metadata": {},
   "outputs": [],
   "source": [
    "# df per guardar les variables seleccionades\n",
    "selected_df = pd.DataFrame()"
   ]
  },
  {
   "cell_type": "markdown",
   "id": "d0ea9830",
   "metadata": {},
   "source": [
    "Observem els primer valors de les variables selecionades per tal de fer-nos una idea de que conté cada una d'elles"
   ]
  },
  {
   "cell_type": "code",
   "execution_count": 12,
   "id": "c0b69ed1",
   "metadata": {},
   "outputs": [
    {
     "data": {
      "text/html": [
       "<div>\n",
       "<style scoped>\n",
       "    .dataframe tbody tr th:only-of-type {\n",
       "        vertical-align: middle;\n",
       "    }\n",
       "\n",
       "    .dataframe tbody tr th {\n",
       "        vertical-align: top;\n",
       "    }\n",
       "\n",
       "    .dataframe thead th {\n",
       "        text-align: right;\n",
       "    }\n",
       "</style>\n",
       "<table border=\"1\" class=\"dataframe\">\n",
       "  <thead>\n",
       "    <tr style=\"text-align: right;\">\n",
       "      <th></th>\n",
       "      <th>0</th>\n",
       "      <th>1</th>\n",
       "      <th>2</th>\n",
       "      <th>3</th>\n",
       "      <th>4</th>\n",
       "    </tr>\n",
       "  </thead>\n",
       "  <tbody>\n",
       "    <tr>\n",
       "      <th>price</th>\n",
       "      <td>418,49 €</td>\n",
       "      <td>393,49 €</td>\n",
       "      <td>437,49 €</td>\n",
       "      <td>406,49 €</td>\n",
       "      <td>455,20 €</td>\n",
       "    </tr>\n",
       "    <tr>\n",
       "      <th>marca</th>\n",
       "      <td>TEKA</td>\n",
       "      <td>INDESIT</td>\n",
       "      <td>INDESIT</td>\n",
       "      <td>TEKA</td>\n",
       "      <td>KROMSLINE</td>\n",
       "    </tr>\n",
       "    <tr>\n",
       "      <th>product-sending-value</th>\n",
       "      <td>37,00 €</td>\n",
       "      <td>37,00 €</td>\n",
       "      <td>37,00 €</td>\n",
       "      <td>37,00 €</td>\n",
       "      <td>37,00 €</td>\n",
       "    </tr>\n",
       "    <tr>\n",
       "      <th>Garantía</th>\n",
       "      <td>3 Años</td>\n",
       "      <td>3 Años</td>\n",
       "      <td>3 Años</td>\n",
       "      <td>3 Años</td>\n",
       "      <td>5 Años</td>\n",
       "    </tr>\n",
       "    <tr>\n",
       "      <th>Alturaexacta</th>\n",
       "      <td>188 Centímetros</td>\n",
       "      <td>180 Centímetros</td>\n",
       "      <td>189 Centímetros</td>\n",
       "      <td>188 Centímetros</td>\n",
       "      <td>185 Centímetros</td>\n",
       "    </tr>\n",
       "    <tr>\n",
       "      <th>Anchuraexacta</th>\n",
       "      <td>60 Centímetros</td>\n",
       "      <td>70 Centímetros</td>\n",
       "      <td>60 Centímetros</td>\n",
       "      <td>60 Centímetros</td>\n",
       "      <td>60 Centímetros</td>\n",
       "    </tr>\n",
       "    <tr>\n",
       "      <th>Númerodepuertas</th>\n",
       "      <td>2 Puertas</td>\n",
       "      <td>2 Puertas</td>\n",
       "      <td>2 Puertas</td>\n",
       "      <td>2 Puertas</td>\n",
       "      <td>2 Puertas</td>\n",
       "    </tr>\n",
       "    <tr>\n",
       "      <th>Tipodeinstalación</th>\n",
       "      <td>Libre</td>\n",
       "      <td>Libre</td>\n",
       "      <td>Libre</td>\n",
       "      <td>Libre</td>\n",
       "      <td>Libre</td>\n",
       "    </tr>\n",
       "    <tr>\n",
       "      <th>ConsumoAnualdeEnergía</th>\n",
       "      <td>293 Kwh/Año</td>\n",
       "      <td>282 Kwh/Año</td>\n",
       "      <td>247 Kwh/Año</td>\n",
       "      <td>293 Kwh/Año</td>\n",
       "      <td>256 Kwh/Año</td>\n",
       "    </tr>\n",
       "    <tr>\n",
       "      <th>Capacidadfrigorífico</th>\n",
       "      <td>224 Litros</td>\n",
       "      <td>333 Litros</td>\n",
       "      <td>230 Litros</td>\n",
       "      <td>224 Litros</td>\n",
       "      <td>211 Litros</td>\n",
       "    </tr>\n",
       "    <tr>\n",
       "      <th>BaldasenRefrigerador</th>\n",
       "      <td>4 Baldas</td>\n",
       "      <td>5 Baldas</td>\n",
       "      <td>4 Baldas</td>\n",
       "      <td>NaN</td>\n",
       "      <td>4 Baldas</td>\n",
       "    </tr>\n",
       "    <tr>\n",
       "      <th>EficienciaNueva</th>\n",
       "      <td>F</td>\n",
       "      <td>F</td>\n",
       "      <td>E</td>\n",
       "      <td>F</td>\n",
       "      <td>E</td>\n",
       "    </tr>\n",
       "    <tr>\n",
       "      <th>Profundidad</th>\n",
       "      <td>64 Centímetros</td>\n",
       "      <td>69 Centímetros</td>\n",
       "      <td>66 Centímetros</td>\n",
       "      <td>64 Centímetros</td>\n",
       "      <td>66 Centímetros</td>\n",
       "    </tr>\n",
       "    <tr>\n",
       "      <th>Ruido</th>\n",
       "      <td>41 Decibelios</td>\n",
       "      <td>44 Decibelios</td>\n",
       "      <td>40 Decibelios</td>\n",
       "      <td>41 Decibelios</td>\n",
       "      <td>41 Decibelios</td>\n",
       "    </tr>\n",
       "    <tr>\n",
       "      <th>Refrigeración</th>\n",
       "      <td>No Frost</td>\n",
       "      <td>Cíclico</td>\n",
       "      <td>Cíclico</td>\n",
       "      <td>No Frost</td>\n",
       "      <td>No Frost</td>\n",
       "    </tr>\n",
       "    <tr>\n",
       "      <th>Color/material</th>\n",
       "      <td>Inox</td>\n",
       "      <td>Blanco</td>\n",
       "      <td>Inox</td>\n",
       "      <td>Blanco</td>\n",
       "      <td>Blanco</td>\n",
       "    </tr>\n",
       "  </tbody>\n",
       "</table>\n",
       "</div>"
      ],
      "text/plain": [
       "                                     0                1                2  \\\n",
       "price                         418,49 €         393,49 €         437,49 €   \n",
       "marca                             TEKA          INDESIT          INDESIT   \n",
       "product-sending-value          37,00 €          37,00 €          37,00 €   \n",
       "Garantía                        3 Años           3 Años           3 Años   \n",
       "Alturaexacta           188 Centímetros  180 Centímetros  189 Centímetros   \n",
       "Anchuraexacta           60 Centímetros   70 Centímetros   60 Centímetros   \n",
       "Númerodepuertas              2 Puertas        2 Puertas        2 Puertas   \n",
       "Tipodeinstalación                Libre            Libre            Libre   \n",
       "ConsumoAnualdeEnergía      293 Kwh/Año      282 Kwh/Año      247 Kwh/Año   \n",
       "Capacidadfrigorífico        224 Litros       333 Litros       230 Litros   \n",
       "BaldasenRefrigerador          4 Baldas         5 Baldas         4 Baldas   \n",
       "EficienciaNueva                      F                F                E   \n",
       "Profundidad             64 Centímetros   69 Centímetros   66 Centímetros   \n",
       "Ruido                    41 Decibelios    44 Decibelios    40 Decibelios   \n",
       "Refrigeración                 No Frost          Cíclico          Cíclico   \n",
       "Color/material                    Inox           Blanco             Inox   \n",
       "\n",
       "                                     3                4  \n",
       "price                         406,49 €         455,20 €  \n",
       "marca                             TEKA        KROMSLINE  \n",
       "product-sending-value          37,00 €          37,00 €  \n",
       "Garantía                        3 Años           5 Años  \n",
       "Alturaexacta           188 Centímetros  185 Centímetros  \n",
       "Anchuraexacta           60 Centímetros   60 Centímetros  \n",
       "Númerodepuertas              2 Puertas        2 Puertas  \n",
       "Tipodeinstalación                Libre            Libre  \n",
       "ConsumoAnualdeEnergía      293 Kwh/Año      256 Kwh/Año  \n",
       "Capacidadfrigorífico        224 Litros       211 Litros  \n",
       "BaldasenRefrigerador               NaN         4 Baldas  \n",
       "EficienciaNueva                      F                E  \n",
       "Profundidad             64 Centímetros   66 Centímetros  \n",
       "Ruido                    41 Decibelios    41 Decibelios  \n",
       "Refrigeración                 No Frost         No Frost  \n",
       "Color/material                  Blanco           Blanco  "
      ]
     },
     "execution_count": 12,
     "metadata": {},
     "output_type": "execute_result"
    }
   ],
   "source": [
    "# Mostrem els primer valors de les variables seleccionades\n",
    "raw_df[['price','marca','product-sending-value','Garantía','Alturaexacta','Anchuraexacta',\n",
    "        'Númerodepuertas','Tipodeinstalación','ConsumoAnualdeEnergía',\n",
    "        'Capacidadfrigorífico','BaldasenRefrigerador','EficienciaNueva',\n",
    "        'Profundidad','Ruido','Refrigeración','Color/material']].head().transpose()"
   ]
  },
  {
   "cell_type": "markdown",
   "id": "23debf43",
   "metadata": {},
   "source": [
    "La majoria d'aquestes variables contenen les unitats i estan en format string quan es tracta d'una variable númerica. Procedim a adequar el farmat de cada una d'elles i les afegim al nou dataframe "
   ]
  },
  {
   "cell_type": "code",
   "execution_count": 13,
   "id": "9c3cf5f9",
   "metadata": {},
   "outputs": [],
   "source": [
    "# Seleccionem i addecuem el format\n",
    "selected_df['precio'] = raw_df['price'].str.replace('.', '').str.replace(',', '.').str.replace(' €', '').astype(float)\n",
    "selected_df['marca'] = raw_df['marca']\n",
    "selected_df['gastos_envio'] = raw_df['product-sending-value'].str.replace('.', '').str.replace(',', '.').str.replace(' €', '').astype(float)\n",
    "selected_df['garantía'] = raw_df['Garantía'].str.replace(' Años', '').astype('Int64')\n",
    "selected_df['altura'] = raw_df['Alturaexacta'].str.replace('.', '').str.replace(' Centímetros', '').astype('Int64')\n",
    "selected_df['anchura'] = raw_df['Anchuraexacta'].str.replace('.', '').str.replace(' Centímetros', '').astype('Int64')\n",
    "selected_df['profundidad'] = raw_df['Profundidad'].str.replace(' Centímetros', '').astype('Int64')\n",
    "selected_df['capacidad'] = raw_df['Capacidadfrigorífico'].str.replace(' Litros', '').str.replace('\\\\r', '').astype('Int64')\n",
    "selected_df['puertas'] = raw_df['Númerodepuertas'].str.replace(\" Puertas\", \"\").astype('Int64')\n",
    "selected_df['baldas'] = raw_df['BaldasenRefrigerador'].str.replace(' Baldas', '').str.replace(' ', '').astype('Int64')\n",
    "selected_df['instalación'] = raw_df['Tipodeinstalación'].str.replace(' ', '')\n",
    "selected_df['consumo_anual'] = raw_df['ConsumoAnualdeEnergía'].str.replace(' Kwh/Año', '').astype('Int64')\n",
    "selected_df['eficiencia'] = raw_df['EficienciaNueva'].str.replace(' ', '')\n",
    "selected_df['ruido'] = raw_df['Ruido'].str.replace(' Decibelios', '').astype('Int64')\n",
    "selected_df['refrigeración'] = raw_df['Refrigeración'].str.replace(\" \", \"\")\n",
    "selected_df['color'] = raw_df['Color/material'].str.replace(\" \", \"\")"
   ]
  },
  {
   "cell_type": "code",
   "execution_count": 14,
   "id": "0851737f",
   "metadata": {},
   "outputs": [
    {
     "data": {
      "text/html": [
       "<div>\n",
       "<style scoped>\n",
       "    .dataframe tbody tr th:only-of-type {\n",
       "        vertical-align: middle;\n",
       "    }\n",
       "\n",
       "    .dataframe tbody tr th {\n",
       "        vertical-align: top;\n",
       "    }\n",
       "\n",
       "    .dataframe thead th {\n",
       "        text-align: right;\n",
       "    }\n",
       "</style>\n",
       "<table border=\"1\" class=\"dataframe\">\n",
       "  <thead>\n",
       "    <tr style=\"text-align: right;\">\n",
       "      <th></th>\n",
       "      <th>0</th>\n",
       "      <th>1</th>\n",
       "      <th>2</th>\n",
       "      <th>3</th>\n",
       "      <th>4</th>\n",
       "    </tr>\n",
       "  </thead>\n",
       "  <tbody>\n",
       "    <tr>\n",
       "      <th>precio</th>\n",
       "      <td>418.49</td>\n",
       "      <td>393.49</td>\n",
       "      <td>437.49</td>\n",
       "      <td>406.49</td>\n",
       "      <td>455.2</td>\n",
       "    </tr>\n",
       "    <tr>\n",
       "      <th>marca</th>\n",
       "      <td>TEKA</td>\n",
       "      <td>INDESIT</td>\n",
       "      <td>INDESIT</td>\n",
       "      <td>TEKA</td>\n",
       "      <td>KROMSLINE</td>\n",
       "    </tr>\n",
       "    <tr>\n",
       "      <th>gastos_envio</th>\n",
       "      <td>37.0</td>\n",
       "      <td>37.0</td>\n",
       "      <td>37.0</td>\n",
       "      <td>37.0</td>\n",
       "      <td>37.0</td>\n",
       "    </tr>\n",
       "    <tr>\n",
       "      <th>garantía</th>\n",
       "      <td>3</td>\n",
       "      <td>3</td>\n",
       "      <td>3</td>\n",
       "      <td>3</td>\n",
       "      <td>5</td>\n",
       "    </tr>\n",
       "    <tr>\n",
       "      <th>altura</th>\n",
       "      <td>188</td>\n",
       "      <td>180</td>\n",
       "      <td>189</td>\n",
       "      <td>188</td>\n",
       "      <td>185</td>\n",
       "    </tr>\n",
       "    <tr>\n",
       "      <th>anchura</th>\n",
       "      <td>60</td>\n",
       "      <td>70</td>\n",
       "      <td>60</td>\n",
       "      <td>60</td>\n",
       "      <td>60</td>\n",
       "    </tr>\n",
       "    <tr>\n",
       "      <th>profundidad</th>\n",
       "      <td>64</td>\n",
       "      <td>69</td>\n",
       "      <td>66</td>\n",
       "      <td>64</td>\n",
       "      <td>66</td>\n",
       "    </tr>\n",
       "    <tr>\n",
       "      <th>capacidad</th>\n",
       "      <td>224</td>\n",
       "      <td>333</td>\n",
       "      <td>230</td>\n",
       "      <td>224</td>\n",
       "      <td>211</td>\n",
       "    </tr>\n",
       "    <tr>\n",
       "      <th>puertas</th>\n",
       "      <td>2</td>\n",
       "      <td>2</td>\n",
       "      <td>2</td>\n",
       "      <td>2</td>\n",
       "      <td>2</td>\n",
       "    </tr>\n",
       "    <tr>\n",
       "      <th>baldas</th>\n",
       "      <td>4</td>\n",
       "      <td>5</td>\n",
       "      <td>4</td>\n",
       "      <td>&lt;NA&gt;</td>\n",
       "      <td>4</td>\n",
       "    </tr>\n",
       "    <tr>\n",
       "      <th>instalación</th>\n",
       "      <td>Libre</td>\n",
       "      <td>Libre</td>\n",
       "      <td>Libre</td>\n",
       "      <td>Libre</td>\n",
       "      <td>Libre</td>\n",
       "    </tr>\n",
       "    <tr>\n",
       "      <th>consumo_anual</th>\n",
       "      <td>293</td>\n",
       "      <td>282</td>\n",
       "      <td>247</td>\n",
       "      <td>293</td>\n",
       "      <td>256</td>\n",
       "    </tr>\n",
       "    <tr>\n",
       "      <th>eficiencia</th>\n",
       "      <td>F</td>\n",
       "      <td>F</td>\n",
       "      <td>E</td>\n",
       "      <td>F</td>\n",
       "      <td>E</td>\n",
       "    </tr>\n",
       "    <tr>\n",
       "      <th>ruido</th>\n",
       "      <td>41</td>\n",
       "      <td>44</td>\n",
       "      <td>40</td>\n",
       "      <td>41</td>\n",
       "      <td>41</td>\n",
       "    </tr>\n",
       "    <tr>\n",
       "      <th>refrigeración</th>\n",
       "      <td>NoFrost</td>\n",
       "      <td>Cíclico</td>\n",
       "      <td>Cíclico</td>\n",
       "      <td>NoFrost</td>\n",
       "      <td>NoFrost</td>\n",
       "    </tr>\n",
       "    <tr>\n",
       "      <th>color</th>\n",
       "      <td>Inox</td>\n",
       "      <td>Blanco</td>\n",
       "      <td>Inox</td>\n",
       "      <td>Blanco</td>\n",
       "      <td>Blanco</td>\n",
       "    </tr>\n",
       "  </tbody>\n",
       "</table>\n",
       "</div>"
      ],
      "text/plain": [
       "                     0        1        2        3          4\n",
       "precio          418.49   393.49   437.49   406.49      455.2\n",
       "marca             TEKA  INDESIT  INDESIT     TEKA  KROMSLINE\n",
       "gastos_envio      37.0     37.0     37.0     37.0       37.0\n",
       "garantía             3        3        3        3          5\n",
       "altura             188      180      189      188        185\n",
       "anchura             60       70       60       60         60\n",
       "profundidad         64       69       66       64         66\n",
       "capacidad          224      333      230      224        211\n",
       "puertas              2        2        2        2          2\n",
       "baldas               4        5        4     <NA>          4\n",
       "instalación      Libre    Libre    Libre    Libre      Libre\n",
       "consumo_anual      293      282      247      293        256\n",
       "eficiencia           F        F        E        F          E\n",
       "ruido               41       44       40       41         41\n",
       "refrigeración  NoFrost  Cíclico  Cíclico  NoFrost    NoFrost\n",
       "color             Inox   Blanco     Inox   Blanco     Blanco"
      ]
     },
     "execution_count": 14,
     "metadata": {},
     "output_type": "execute_result"
    }
   ],
   "source": [
    "# Mostrem els primer valors de les variables ade\n",
    "selected_df.head().transpose()"
   ]
  },
  {
   "cell_type": "markdown",
   "id": "24f24517",
   "metadata": {},
   "source": [
    "El dataframe selected_df conte 16 variables, ja no conte cap unitat i està preparat per a poder gestionar els valors extrems i valors nuls."
   ]
  },
  {
   "cell_type": "markdown",
   "id": "7f4b3d54",
   "metadata": {},
   "source": [
    "# Gesió dels valors extrems i perduts"
   ]
  },
  {
   "cell_type": "markdown",
   "id": "63852994",
   "metadata": {},
   "source": [
    "Com ja em vist abans algunes de les variables contenen un nombre reduit de valors nuls. En aquest apartat gestionarem aquest valors nuls i analitzarem si existeixen valors extrems que són errors de les dades, en cas que existexin els gestionarem de la forma adecuada."
   ]
  },
  {
   "cell_type": "markdown",
   "id": "2784992d",
   "metadata": {},
   "source": [
    "Separem el dataframe en dos, ja que gestionarem de forma diferent les varables categoriques i les numeriques"
   ]
  },
  {
   "cell_type": "code",
   "execution_count": 15,
   "id": "baccd8e6",
   "metadata": {},
   "outputs": [],
   "source": [
    "# Separem en dos df\n",
    "cat_df = selected_df[['marca','instalación', 'eficiencia', 'refrigeración', 'color']]\n",
    "num_df = selected_df[['precio', 'gastos_envio', 'garantía', 'altura', 'anchura',\n",
    "                      'profundidad', 'capacidad', 'puertas', 'baldas', 'consumo_anual', 'ruido']]"
   ]
  },
  {
   "cell_type": "markdown",
   "id": "dcf07204",
   "metadata": {},
   "source": [
    "## Cerca i gestió de valors extrems"
   ]
  },
  {
   "cell_type": "markdown",
   "id": "e65a8a64",
   "metadata": {},
   "source": [
    "Començarem amb els valors extrems perquè alguns d'ells no existeix una millor manera de gestionar-los que computar-los com a valors perduts i gestionar-los posteriorment com a tals."
   ]
  },
  {
   "cell_type": "markdown",
   "id": "ddabe322",
   "metadata": {},
   "source": [
    "Imprimim els valors únics de les variables catecoriques per veure si hi ha algun valor incorrecte o que no pertanyi als subconjunts de valors possibles de la categoria."
   ]
  },
  {
   "cell_type": "code",
   "execution_count": 16,
   "id": "51180f62",
   "metadata": {},
   "outputs": [
    {
     "name": "stdout",
     "output_type": "stream",
     "text": [
      "Valors únics variable marca:\n",
      "['TEKA' 'INDESIT' 'KROMSLINE' 'BOSCH' 'BALAY' 'SMEG' 'WINIA' 'LG'\n",
      " 'SIEMENS' 'FAGOR' 'BEKO' 'ARISTON HOTPOINT' 'EDESA' 'ROMMER' 'CATA'\n",
      " 'NIBELS' 'BUTSIR'] \n",
      "\n",
      "Valors únics variable instalación:\n",
      "['Libre' 'Integrable'] \n",
      "\n",
      "Valors únics variable eficiencia:\n",
      "['F' 'E' 'D' 'C' 'B' 'A'] \n",
      "\n",
      "Valors únics variable refrigeración:\n",
      "['NoFrost' 'Cíclico' 'LowFrost' 'Estático' 'Defrost'] \n",
      "\n",
      "Valors únics variable color:\n",
      "['Inox' 'Blanco' 'Azul' 'Negro' 'Gris' 'AceroMate' 'Verde' 'Rojo'\n",
      " 'Amarillo' 'Lima' 'Plata' 'Naranja' 'Crema' 'Antracita' 'Rosa' 'Marrón'] \n",
      "\n"
     ]
    }
   ],
   "source": [
    "for var_name in cat_df.columns:\n",
    "    print(f'Valors únics variable {var_name}:')\n",
    "    print(f'{cat_df[var_name].dropna().unique()} \\n')"
   ]
  },
  {
   "cell_type": "markdown",
   "id": "7284a40e",
   "metadata": {},
   "source": [
    "No observem cap valor extrem en les variables categoriques. \n",
    "\n",
    "Pasem a analitzar si existeixen outliers dins les variables númeriques. Per fer-ho definirem una funció que cerca els valors a més de 2 desviacions estàndard de la mitjana."
   ]
  },
  {
   "cell_type": "code",
   "execution_count": 17,
   "id": "320622d2",
   "metadata": {},
   "outputs": [],
   "source": [
    "def search_outliers(values, std_times = 2):\n",
    "    z_scores = (values - np.mean(values)) / np.std(values)\n",
    "    outliers = values[np.abs(z_scores) > std_times]\n",
    "    return np.sort(outliers.unique())"
   ]
  },
  {
   "cell_type": "code",
   "execution_count": 18,
   "id": "e164991a",
   "metadata": {},
   "outputs": [
    {
     "name": "stdout",
     "output_type": "stream",
     "text": [
      "precio [3943.18 4493.78 4936.49 9317.08]\n",
      "gastos_envio [78.]\n",
      "garantía [5 10]\n",
      "altura [970 2030]\n",
      "anchura [128 179 540]\n",
      "profundidad [815]\n",
      "capacidad [26 34 85 88 90 101 103 105 106 107 109 416 418 455 479]\n",
      "puertas [0 4]\n",
      "baldas [0 2 7]\n",
      "consumo_anual [0 404 406 413 415 419 420 430 450 454 936]\n",
      "ruido [74 254]\n"
     ]
    }
   ],
   "source": [
    "for var_name in num_df.columns:\n",
    "    print(var_name, search_outliers(num_df[var_name]))"
   ]
  },
  {
   "cell_type": "code",
   "execution_count": 19,
   "id": "145916b7",
   "metadata": {},
   "outputs": [
    {
     "data": {
      "text/html": [
       "<div>\n",
       "<style scoped>\n",
       "    .dataframe tbody tr th:only-of-type {\n",
       "        vertical-align: middle;\n",
       "    }\n",
       "\n",
       "    .dataframe tbody tr th {\n",
       "        vertical-align: top;\n",
       "    }\n",
       "\n",
       "    .dataframe thead th {\n",
       "        text-align: right;\n",
       "    }\n",
       "</style>\n",
       "<table border=\"1\" class=\"dataframe\">\n",
       "  <thead>\n",
       "    <tr style=\"text-align: right;\">\n",
       "      <th></th>\n",
       "      <th>precio</th>\n",
       "      <th>marca</th>\n",
       "      <th>gastos_envio</th>\n",
       "      <th>garantía</th>\n",
       "      <th>altura</th>\n",
       "      <th>anchura</th>\n",
       "      <th>profundidad</th>\n",
       "      <th>capacidad</th>\n",
       "      <th>puertas</th>\n",
       "      <th>baldas</th>\n",
       "      <th>instalación</th>\n",
       "      <th>consumo_anual</th>\n",
       "      <th>eficiencia</th>\n",
       "      <th>ruido</th>\n",
       "      <th>refrigeración</th>\n",
       "      <th>color</th>\n",
       "    </tr>\n",
       "  </thead>\n",
       "  <tbody>\n",
       "    <tr>\n",
       "      <th>159</th>\n",
       "      <td>9317.08</td>\n",
       "      <td>SMEG</td>\n",
       "      <td>37.0</td>\n",
       "      <td>3</td>\n",
       "      <td>87</td>\n",
       "      <td>128</td>\n",
       "      <td>82</td>\n",
       "      <td>109</td>\n",
       "      <td>1</td>\n",
       "      <td>&lt;NA&gt;</td>\n",
       "      <td>Libre</td>\n",
       "      <td>103</td>\n",
       "      <td>F</td>\n",
       "      <td>37</td>\n",
       "      <td>Cíclico</td>\n",
       "      <td>Blanco</td>\n",
       "    </tr>\n",
       "    <tr>\n",
       "      <th>179</th>\n",
       "      <td>4493.78</td>\n",
       "      <td>SMEG</td>\n",
       "      <td>37.0</td>\n",
       "      <td>3</td>\n",
       "      <td>187</td>\n",
       "      <td>92</td>\n",
       "      <td>73</td>\n",
       "      <td>385</td>\n",
       "      <td>4</td>\n",
       "      <td>3</td>\n",
       "      <td>Libre</td>\n",
       "      <td>415</td>\n",
       "      <td>F</td>\n",
       "      <td>39</td>\n",
       "      <td>NoFrost</td>\n",
       "      <td>Crema</td>\n",
       "    </tr>\n",
       "    <tr>\n",
       "      <th>180</th>\n",
       "      <td>9317.08</td>\n",
       "      <td>SMEG</td>\n",
       "      <td>37.0</td>\n",
       "      <td>3</td>\n",
       "      <td>87</td>\n",
       "      <td>128</td>\n",
       "      <td>82</td>\n",
       "      <td>109</td>\n",
       "      <td>1</td>\n",
       "      <td>&lt;NA&gt;</td>\n",
       "      <td>Libre</td>\n",
       "      <td>103</td>\n",
       "      <td>F</td>\n",
       "      <td>37</td>\n",
       "      <td>Cíclico</td>\n",
       "      <td>Azul</td>\n",
       "    </tr>\n",
       "    <tr>\n",
       "      <th>203</th>\n",
       "      <td>9317.08</td>\n",
       "      <td>SMEG</td>\n",
       "      <td>37.0</td>\n",
       "      <td>3</td>\n",
       "      <td>87</td>\n",
       "      <td>128</td>\n",
       "      <td>82</td>\n",
       "      <td>109</td>\n",
       "      <td>1</td>\n",
       "      <td>&lt;NA&gt;</td>\n",
       "      <td>Libre</td>\n",
       "      <td>103</td>\n",
       "      <td>F</td>\n",
       "      <td>37</td>\n",
       "      <td>Cíclico</td>\n",
       "      <td>Amarillo</td>\n",
       "    </tr>\n",
       "    <tr>\n",
       "      <th>231</th>\n",
       "      <td>3943.18</td>\n",
       "      <td>SMEG</td>\n",
       "      <td>37.0</td>\n",
       "      <td>3</td>\n",
       "      <td>187</td>\n",
       "      <td>92</td>\n",
       "      <td>76</td>\n",
       "      <td>385</td>\n",
       "      <td>4</td>\n",
       "      <td>4</td>\n",
       "      <td>Libre</td>\n",
       "      <td>415</td>\n",
       "      <td>F</td>\n",
       "      <td>39</td>\n",
       "      <td>NoFrost</td>\n",
       "      <td>Antracita</td>\n",
       "    </tr>\n",
       "    <tr>\n",
       "      <th>292</th>\n",
       "      <td>3943.18</td>\n",
       "      <td>SMEG</td>\n",
       "      <td>37.0</td>\n",
       "      <td>3</td>\n",
       "      <td>187</td>\n",
       "      <td>92</td>\n",
       "      <td>76</td>\n",
       "      <td>385</td>\n",
       "      <td>4</td>\n",
       "      <td>4</td>\n",
       "      <td>Libre</td>\n",
       "      <td>415</td>\n",
       "      <td>F</td>\n",
       "      <td>39</td>\n",
       "      <td>NoFrost</td>\n",
       "      <td>Crema</td>\n",
       "    </tr>\n",
       "    <tr>\n",
       "      <th>360</th>\n",
       "      <td>9317.08</td>\n",
       "      <td>SMEG</td>\n",
       "      <td>37.0</td>\n",
       "      <td>3</td>\n",
       "      <td>87</td>\n",
       "      <td>128</td>\n",
       "      <td>815</td>\n",
       "      <td>109</td>\n",
       "      <td>1</td>\n",
       "      <td>&lt;NA&gt;</td>\n",
       "      <td>Libre</td>\n",
       "      <td>103</td>\n",
       "      <td>F</td>\n",
       "      <td>37</td>\n",
       "      <td>Estático</td>\n",
       "      <td>Rojo</td>\n",
       "    </tr>\n",
       "    <tr>\n",
       "      <th>377</th>\n",
       "      <td>4493.78</td>\n",
       "      <td>SMEG</td>\n",
       "      <td>37.0</td>\n",
       "      <td>3</td>\n",
       "      <td>187</td>\n",
       "      <td>92</td>\n",
       "      <td>76</td>\n",
       "      <td>385</td>\n",
       "      <td>4</td>\n",
       "      <td>3</td>\n",
       "      <td>Libre</td>\n",
       "      <td>415</td>\n",
       "      <td>F</td>\n",
       "      <td>39</td>\n",
       "      <td>NoFrost</td>\n",
       "      <td>Negro</td>\n",
       "    </tr>\n",
       "    <tr>\n",
       "      <th>382</th>\n",
       "      <td>9317.08</td>\n",
       "      <td>SMEG</td>\n",
       "      <td>37.0</td>\n",
       "      <td>3</td>\n",
       "      <td>87</td>\n",
       "      <td>128</td>\n",
       "      <td>82</td>\n",
       "      <td>109</td>\n",
       "      <td>1</td>\n",
       "      <td>&lt;NA&gt;</td>\n",
       "      <td>Libre</td>\n",
       "      <td>103</td>\n",
       "      <td>F</td>\n",
       "      <td>37</td>\n",
       "      <td>Estático</td>\n",
       "      <td>Verde</td>\n",
       "    </tr>\n",
       "    <tr>\n",
       "      <th>397</th>\n",
       "      <td>4936.49</td>\n",
       "      <td>LG</td>\n",
       "      <td>37.0</td>\n",
       "      <td>3</td>\n",
       "      <td>178</td>\n",
       "      <td>91</td>\n",
       "      <td>75</td>\n",
       "      <td>387</td>\n",
       "      <td>4</td>\n",
       "      <td>3</td>\n",
       "      <td>Libre</td>\n",
       "      <td>454</td>\n",
       "      <td>F</td>\n",
       "      <td>41</td>\n",
       "      <td>NoFrost</td>\n",
       "      <td>Inox</td>\n",
       "    </tr>\n",
       "    <tr>\n",
       "      <th>443</th>\n",
       "      <td>4493.78</td>\n",
       "      <td>SMEG</td>\n",
       "      <td>37.0</td>\n",
       "      <td>3</td>\n",
       "      <td>187</td>\n",
       "      <td>92</td>\n",
       "      <td>73</td>\n",
       "      <td>385</td>\n",
       "      <td>4</td>\n",
       "      <td>3</td>\n",
       "      <td>Libre</td>\n",
       "      <td>415</td>\n",
       "      <td>F</td>\n",
       "      <td>39</td>\n",
       "      <td>NoFrost</td>\n",
       "      <td>Azul</td>\n",
       "    </tr>\n",
       "  </tbody>\n",
       "</table>\n",
       "</div>"
      ],
      "text/plain": [
       "      precio marca  gastos_envio  garantía  altura  anchura  profundidad  \\\n",
       "159  9317.08  SMEG          37.0         3      87      128           82   \n",
       "179  4493.78  SMEG          37.0         3     187       92           73   \n",
       "180  9317.08  SMEG          37.0         3      87      128           82   \n",
       "203  9317.08  SMEG          37.0         3      87      128           82   \n",
       "231  3943.18  SMEG          37.0         3     187       92           76   \n",
       "292  3943.18  SMEG          37.0         3     187       92           76   \n",
       "360  9317.08  SMEG          37.0         3      87      128          815   \n",
       "377  4493.78  SMEG          37.0         3     187       92           76   \n",
       "382  9317.08  SMEG          37.0         3      87      128           82   \n",
       "397  4936.49    LG          37.0         3     178       91           75   \n",
       "443  4493.78  SMEG          37.0         3     187       92           73   \n",
       "\n",
       "     capacidad  puertas  baldas instalación  consumo_anual eficiencia  ruido  \\\n",
       "159        109        1    <NA>       Libre            103          F     37   \n",
       "179        385        4       3       Libre            415          F     39   \n",
       "180        109        1    <NA>       Libre            103          F     37   \n",
       "203        109        1    <NA>       Libre            103          F     37   \n",
       "231        385        4       4       Libre            415          F     39   \n",
       "292        385        4       4       Libre            415          F     39   \n",
       "360        109        1    <NA>       Libre            103          F     37   \n",
       "377        385        4       3       Libre            415          F     39   \n",
       "382        109        1    <NA>       Libre            103          F     37   \n",
       "397        387        4       3       Libre            454          F     41   \n",
       "443        385        4       3       Libre            415          F     39   \n",
       "\n",
       "    refrigeración      color  \n",
       "159       Cíclico     Blanco  \n",
       "179       NoFrost      Crema  \n",
       "180       Cíclico       Azul  \n",
       "203       Cíclico   Amarillo  \n",
       "231       NoFrost  Antracita  \n",
       "292       NoFrost      Crema  \n",
       "360      Estático       Rojo  \n",
       "377       NoFrost      Negro  \n",
       "382      Estático      Verde  \n",
       "397       NoFrost       Inox  \n",
       "443       NoFrost       Azul  "
      ]
     },
     "execution_count": 19,
     "metadata": {},
     "output_type": "execute_result"
    }
   ],
   "source": [
    "selected_df[selected_df['precio'] > 3900]"
   ]
  },
  {
   "cell_type": "code",
   "execution_count": 20,
   "id": "db5b36ce",
   "metadata": {},
   "outputs": [
    {
     "data": {
      "text/plain": [
       "array([2, 3, None], dtype=object)"
      ]
     },
     "execution_count": 20,
     "metadata": {},
     "output_type": "execute_result"
    }
   ],
   "source": [
    "np.array([2,3,None])"
   ]
  },
  {
   "cell_type": "markdown",
   "id": "dd8a967b",
   "metadata": {},
   "source": [
    "Visualitzar primer les diferents variables que hem seleccionat, quants valors nuls tenen i els seus valors únics per poder decidir com treballar-los individualment."
   ]
  },
  {
   "cell_type": "code",
   "execution_count": 21,
   "id": "cbadb427",
   "metadata": {},
   "outputs": [
    {
     "name": "stdout",
     "output_type": "stream",
     "text": [
      "\n",
      " precio té 0 NULLS\n",
      "\n",
      " marca té 0 NULLS\n",
      "SMEG                112\n",
      "BOSCH                83\n",
      "BALAY                66\n",
      "LG                   52\n",
      "TEKA                 35\n",
      "ROMMER               33\n",
      "INDESIT              24\n",
      "KROMSLINE            20\n",
      "WINIA                16\n",
      "BEKO                 15\n",
      "ARISTON HOTPOINT     13\n",
      "SIEMENS              10\n",
      "FAGOR                 4\n",
      "CATA                  2\n",
      "EDESA                 1\n",
      "NIBELS                1\n",
      "BUTSIR                1\n",
      "Name: marca, dtype: int64\n",
      "\n",
      " gastos_envio té 0 NULLS\n",
      "37.0    443\n",
      "78.0     45\n",
      "Name: gastos_envio, dtype: int64\n",
      "\n",
      " garantía té 5 NULLS\n",
      "3     464\n",
      "5      17\n",
      "10      2\n",
      "Name: garantía, dtype: Int64\n",
      "\n",
      " altura té 5 NULLS\n",
      "\n",
      " anchura té 5 NULLS\n",
      "\n",
      " profundidad té 23 NULLS\n",
      "\n",
      " capacidad té 12 NULLS\n",
      "\n",
      " puertas té 8 NULLS\n",
      "2    355\n",
      "1     96\n",
      "4     24\n",
      "0      3\n",
      "3      2\n",
      "Name: puertas, dtype: Int64\n",
      "\n",
      " baldas té 16 NULLS\n",
      "4    177\n",
      "3    132\n",
      "5    126\n",
      "7     16\n",
      "2     11\n",
      "6      9\n",
      "0      1\n",
      "Name: baldas, dtype: Int64\n",
      "\n",
      " instalación té 9 NULLS\n",
      "Libre         455\n",
      "Integrable     24\n",
      "Name: instalación, dtype: int64\n",
      "\n",
      " consumo_anual té 12 NULLS\n",
      "\n",
      " eficiencia té 22 NULLS\n",
      "E    180\n",
      "F    125\n",
      "D    125\n",
      "C     29\n",
      "B      6\n",
      "A      1\n",
      "Name: eficiencia, dtype: int64\n",
      "\n",
      " ruido té 24 NULLS\n",
      "39     88\n",
      "35     75\n",
      "41     62\n",
      "37     56\n",
      "40     55\n",
      "36     51\n",
      "42     33\n",
      "38     21\n",
      "33      6\n",
      "44      5\n",
      "43      3\n",
      "45      3\n",
      "34      2\n",
      "254     1\n",
      "74      1\n",
      "29      1\n",
      "59      1\n",
      "Name: ruido, dtype: Int64\n",
      "\n",
      " refrigeración té 25 NULLS\n",
      "NoFrost     309\n",
      "Cíclico     121\n",
      "Estático     29\n",
      "LowFrost      2\n",
      "Defrost       2\n",
      "Name: refrigeración, dtype: int64\n",
      "\n",
      " color té 25 NULLS\n",
      "Inox         181\n",
      "Blanco       159\n",
      "Negro         33\n",
      "Azul          13\n",
      "Crema         13\n",
      "Gris          11\n",
      "Verde          9\n",
      "Antracita      8\n",
      "Rojo           7\n",
      "Naranja        7\n",
      "Rosa           6\n",
      "Plata          5\n",
      "Lima           4\n",
      "Amarillo       3\n",
      "AceroMate      2\n",
      "Marrón         2\n",
      "Name: color, dtype: int64\n"
     ]
    }
   ],
   "source": [
    "i = 0\n",
    "for line in selected_df.isnull().sum():\n",
    "    colname = selected_df.columns[i]\n",
    "    print(\"\\n\", colname, \"té\", line, \"NULLS\")\n",
    "    if len(selected_df[colname].unique()) <=25:\n",
    "        print(selected_df[colname].value_counts())\n",
    "    i += 1"
   ]
  },
  {
   "cell_type": "markdown",
   "id": "5be2251f",
   "metadata": {},
   "source": [
    "Tenim 4 casos diferents:\n",
    "- La variable no té valors nuls.\n",
    "- La variable té un valor predominant que podem assignar per defecte. Per exemple els costos d'enviament solen ser en la majoria dels casos de 37€.\n",
    "- La variable té una distribució més equilibrada entre les categories i no hi podem assignar cap valor. Un exemple seria la distribució de colors de les neveres.\n",
    "- La variable és numèrica i podem fer servir estadística per trobar el seu valor. Com ara en el cas de l'alçada o amplada."
   ]
  },
  {
   "cell_type": "markdown",
   "id": "beef6ebe",
   "metadata": {},
   "source": [
    "En el cas dels outliers visualitzarem els valors únics de les variables numèriques per veure els casos concrets."
   ]
  },
  {
   "cell_type": "code",
   "execution_count": 22,
   "id": "44cf62d8",
   "metadata": {},
   "outputs": [],
   "source": [
    "def search_outliers(column):\n",
    "    selected_df_column = selected_df[column].dropna().unique()\n",
    "    z_scores = (selected_df_column - np.mean(selected_df_column)) / np.std(selected_df_column)\n",
    "    outlier_threshold = 2\n",
    "    outliers = selected_df_column[np.abs(z_scores) > outlier_threshold]\n",
    "    return outliers.tolist()\n"
   ]
  },
  {
   "cell_type": "code",
   "execution_count": 23,
   "id": "f8f09357",
   "metadata": {},
   "outputs": [
    {
     "name": "stdout",
     "output_type": "stream",
     "text": [
      "precio [2860.49, 9317.08, 4493.78, 2972.35, 3943.18, 2685.26, 2771.49, 2520.49, 2610.99, 4936.49, 2566.67]\n",
      "altura [2030, 970]\n",
      "anchura [540]\n",
      "profundidad [815]\n",
      "capacidad [479, 34, 26, 455]\n",
      "ruido [254]\n"
     ]
    }
   ],
   "source": [
    "for column in [\"precio\", \"altura\", \"anchura\", \"profundidad\", \"capacidad\", \"ruido\"]:\n",
    "    print(column, search_outliers(column))"
   ]
  },
  {
   "cell_type": "markdown",
   "id": "4ebdd86f",
   "metadata": {},
   "source": [
    "En el cas del preu, no obtenim valors gaire descabellats però anem a analitzar els altres casos individualment.\n",
    "\n",
    "En el cas de les dimensions de les neveres veiem que en aquests casos concrets hi ha hagut un error en les unitats afegint un 0 de més. Veiem que en aquest cas en les dades originals el rang de les dimensions és correcte mentre que les mesures exactes no."
   ]
  },
  {
   "cell_type": "code",
   "execution_count": 24,
   "id": "80b05e8e",
   "metadata": {},
   "outputs": [
    {
     "data": {
      "text/html": [
       "<div>\n",
       "<style scoped>\n",
       "    .dataframe tbody tr th:only-of-type {\n",
       "        vertical-align: middle;\n",
       "    }\n",
       "\n",
       "    .dataframe tbody tr th {\n",
       "        vertical-align: top;\n",
       "    }\n",
       "\n",
       "    .dataframe thead th {\n",
       "        text-align: right;\n",
       "    }\n",
       "</style>\n",
       "<table border=\"1\" class=\"dataframe\">\n",
       "  <thead>\n",
       "    <tr style=\"text-align: right;\">\n",
       "      <th></th>\n",
       "      <th>Altura</th>\n",
       "      <th>Alturaexacta</th>\n",
       "    </tr>\n",
       "  </thead>\n",
       "  <tbody>\n",
       "    <tr>\n",
       "      <th>199</th>\n",
       "      <td>Mayor de 200 cm</td>\n",
       "      <td>2.030 Centímetros</td>\n",
       "    </tr>\n",
       "    <tr>\n",
       "      <th>413</th>\n",
       "      <td>50 a 100 cm</td>\n",
       "      <td>970 Centímetros</td>\n",
       "    </tr>\n",
       "  </tbody>\n",
       "</table>\n",
       "</div>"
      ],
      "text/plain": [
       "              Altura       Alturaexacta\n",
       "199  Mayor de 200 cm  2.030 Centímetros\n",
       "413      50 a 100 cm    970 Centímetros"
      ]
     },
     "execution_count": 24,
     "metadata": {},
     "output_type": "execute_result"
    }
   ],
   "source": [
    "raw_df[[\"Altura\", \"Alturaexacta\"]].loc[selected_df['altura'] >= 970]"
   ]
  },
  {
   "cell_type": "code",
   "execution_count": 25,
   "id": "9165a01f",
   "metadata": {},
   "outputs": [
    {
     "data": {
      "text/html": [
       "<div>\n",
       "<style scoped>\n",
       "    .dataframe tbody tr th:only-of-type {\n",
       "        vertical-align: middle;\n",
       "    }\n",
       "\n",
       "    .dataframe tbody tr th {\n",
       "        vertical-align: top;\n",
       "    }\n",
       "\n",
       "    .dataframe thead th {\n",
       "        text-align: right;\n",
       "    }\n",
       "</style>\n",
       "<table border=\"1\" class=\"dataframe\">\n",
       "  <thead>\n",
       "    <tr style=\"text-align: right;\">\n",
       "      <th></th>\n",
       "      <th>Anchura</th>\n",
       "      <th>Anchuraexacta</th>\n",
       "    </tr>\n",
       "  </thead>\n",
       "  <tbody>\n",
       "    <tr>\n",
       "      <th>447</th>\n",
       "      <td>51 a 54 cm</td>\n",
       "      <td>540 Centímetros</td>\n",
       "    </tr>\n",
       "  </tbody>\n",
       "</table>\n",
       "</div>"
      ],
      "text/plain": [
       "        Anchura    Anchuraexacta\n",
       "447  51 a 54 cm  540 Centímetros"
      ]
     },
     "execution_count": 25,
     "metadata": {},
     "output_type": "execute_result"
    }
   ],
   "source": [
    "raw_df[[\"Anchura\", \"Anchuraexacta\"]].loc[selected_df['anchura'] >= 540]"
   ]
  },
  {
   "cell_type": "markdown",
   "id": "ab783e94",
   "metadata": {},
   "source": [
    "En el cas de la profunditat veiem que tot i que no tenim una variable categòrica per comparar, veient la resta de dimensions de la nevera podem asumir que succeeix el mateix."
   ]
  },
  {
   "cell_type": "code",
   "execution_count": 26,
   "id": "57e2c482",
   "metadata": {},
   "outputs": [
    {
     "data": {
      "text/html": [
       "<div>\n",
       "<style scoped>\n",
       "    .dataframe tbody tr th:only-of-type {\n",
       "        vertical-align: middle;\n",
       "    }\n",
       "\n",
       "    .dataframe tbody tr th {\n",
       "        vertical-align: top;\n",
       "    }\n",
       "\n",
       "    .dataframe thead th {\n",
       "        text-align: right;\n",
       "    }\n",
       "</style>\n",
       "<table border=\"1\" class=\"dataframe\">\n",
       "  <thead>\n",
       "    <tr style=\"text-align: right;\">\n",
       "      <th></th>\n",
       "      <th>Alturaexacta</th>\n",
       "      <th>Anchuraexacta</th>\n",
       "      <th>Profundidad</th>\n",
       "    </tr>\n",
       "  </thead>\n",
       "  <tbody>\n",
       "    <tr>\n",
       "      <th>360</th>\n",
       "      <td>87 Centímetros</td>\n",
       "      <td>128 Centímetros</td>\n",
       "      <td>815 Centímetros</td>\n",
       "    </tr>\n",
       "  </tbody>\n",
       "</table>\n",
       "</div>"
      ],
      "text/plain": [
       "       Alturaexacta    Anchuraexacta      Profundidad\n",
       "360  87 Centímetros  128 Centímetros  815 Centímetros"
      ]
     },
     "execution_count": 26,
     "metadata": {},
     "output_type": "execute_result"
    }
   ],
   "source": [
    "raw_df[[\"Alturaexacta\", \"Anchuraexacta\", \"Profundidad\"]].loc[selected_df['profundidad'] >= 815]"
   ]
  },
  {
   "cell_type": "code",
   "execution_count": 27,
   "id": "7b37128c",
   "metadata": {},
   "outputs": [],
   "source": [
    "selected_df.loc[selected_df['precio'] >= 2500, 'precio'] = np.nan\n",
    "selected_df.loc[selected_df['altura'] >= 970, 'altura'] /= 10\n",
    "selected_df.loc[selected_df['anchura'] >= 540, 'anchura'] /= 10\n",
    "selected_df.loc[selected_df['profundidad'] >= 815, 'profundidad'] = np.ceil(selected_df.loc[selected_df['profundidad'] >= 815, 'profundidad'] / 10)"
   ]
  },
  {
   "cell_type": "markdown",
   "id": "4c6b4467",
   "metadata": {},
   "source": [
    "En el cas del soroll veiem que tenim un outlier de 254 dB. El que està molt per sobre dels límits humans i ens fa pensar que es tracta d'un error. En aquest cas podem triar o calcular la mitjana o assumir que realment si que és una nevera sorollosa però triar un threshold més raonable."
   ]
  },
  {
   "cell_type": "code",
   "execution_count": 28,
   "id": "863bfe2b",
   "metadata": {},
   "outputs": [],
   "source": [
    "selected_df.loc[selected_df['ruido'] >= 100, 'ruido'] = 100"
   ]
  },
  {
   "cell_type": "markdown",
   "id": "d46edcdc",
   "metadata": {},
   "source": [
    "Per gestionar els nuls en el cas de les variables numèriques podem calcular la mitjana i omplir els valors nuls amb aquesta."
   ]
  },
  {
   "cell_type": "code",
   "execution_count": 29,
   "id": "5b9f1a5d",
   "metadata": {},
   "outputs": [],
   "source": [
    "def fill_na_mean(data, column):\n",
    "    average = round(data[column].dropna().mean())\n",
    "    data[column] = data[column].fillna(average)\n",
    "    return"
   ]
  },
  {
   "cell_type": "code",
   "execution_count": 30,
   "id": "25365119",
   "metadata": {},
   "outputs": [
    {
     "name": "stdout",
     "output_type": "stream",
     "text": [
      "altura           0\n",
      "anchura          0\n",
      "profundidad      0\n",
      "capacidad        0\n",
      "ruido            0\n",
      "baldas           0\n",
      "consumo_anual    0\n",
      "dtype: int64\n"
     ]
    }
   ],
   "source": [
    "for column in ['precio', 'altura', 'anchura', 'profundidad', 'capacidad', 'baldas', 'consumo_anual']:\n",
    "    fill_na_mean(selected_df, column)\n",
    "# en el cas del soroll hem de tenir en compte que tenim una escala logarítmica\n",
    "\n",
    "ruidocol = selected_df['ruido'].dropna()\n",
    "linear_values = 10 ** (ruidocol / 10)\n",
    "average_decibel = round(10 * np.log10(np.mean(linear_values)))\n",
    "selected_df['ruido'] = selected_df['ruido'].fillna(average_decibel)\n",
    "\n",
    "print(selected_df[['altura', 'anchura', 'profundidad', 'capacidad', 'ruido', 'baldas', 'consumo_anual']].isnull().sum())"
   ]
  },
  {
   "cell_type": "markdown",
   "id": "9f0d3b22",
   "metadata": {},
   "source": [
    "En el cas de la eficiència com si que hi ha una relació entre les diferents lletres (A millor i F pitjor), podem convertir-ho en una variable numèrica per calcular la 'lletra mitjana' i després reconvertir-ho en la variable categòrica que és."
   ]
  },
  {
   "cell_type": "code",
   "execution_count": 31,
   "id": "05129ec7",
   "metadata": {},
   "outputs": [],
   "source": [
    "mapping_dict = {'A': 1, 'B': 2, 'C': 3, 'D': 4, 'E': 5, 'F': 6}\n",
    "\n",
    "selected_df['eficiencia'] = selected_df['eficiencia'].map(mapping_dict)\n",
    "\n",
    "mean_value = round(selected_df['eficiencia'].mean())\n",
    "\n",
    "selected_df['eficiencia'].fillna(mean_value, inplace=True)\n",
    "selected_df['eficiencia'] = selected_df['eficiencia'].map({v: k for k, v in mapping_dict.items()})"
   ]
  },
  {
   "cell_type": "markdown",
   "id": "5a088dea",
   "metadata": {},
   "source": [
    "En el cas de variables com garantia, puertas o refrigeración, tenim un grup predominant on podem enviar els valors nuls, la majoria de neveres tenen 2 portes, o refrigeració NoFrost. En el cas de la garantía fins i tot podem raonar que per llei tots els electrodomèstics estan obligats a 3 anys mínim. Per tant podem declarar que sempre tindran 3 anys de garantia."
   ]
  },
  {
   "cell_type": "code",
   "execution_count": 32,
   "id": "e4d0a0fd",
   "metadata": {},
   "outputs": [],
   "source": [
    "selected_df['garantía'] = selected_df['garantía'].fillna(3)\n",
    "selected_df['puertas'] = selected_df['puertas'].fillna(2)\n",
    "selected_df['refrigeración'] = selected_df['refrigeración'].fillna('NoFrost')\n",
    "selected_df['instalación'] = selected_df['refrigeración'].fillna('Libre')\n",
    "# En el cas del color com tenim tantes categories diverses de color podem mantenir\n",
    "# els nuls com una categoria apart 'desconocido'\n",
    "selected_df['color'] = selected_df['color'].fillna('Desconocido')"
   ]
  },
  {
   "cell_type": "code",
   "execution_count": 33,
   "id": "fc4180dc",
   "metadata": {},
   "outputs": [
    {
     "name": "stdout",
     "output_type": "stream",
     "text": [
      "\n",
      " precio té 0 NULLS\n",
      "\n",
      " marca té 0 NULLS\n",
      "\n",
      " gastos_envio té 0 NULLS\n",
      "\n",
      " garantía té 0 NULLS\n",
      "\n",
      " altura té 0 NULLS\n",
      "\n",
      " anchura té 0 NULLS\n",
      "\n",
      " profundidad té 0 NULLS\n",
      "\n",
      " capacidad té 0 NULLS\n",
      "\n",
      " puertas té 0 NULLS\n",
      "\n",
      " baldas té 0 NULLS\n",
      "\n",
      " instalación té 0 NULLS\n",
      "\n",
      " consumo_anual té 0 NULLS\n",
      "\n",
      " eficiencia té 0 NULLS\n",
      "\n",
      " ruido té 0 NULLS\n",
      "\n",
      " refrigeración té 0 NULLS\n",
      "\n",
      " color té 0 NULLS\n"
     ]
    }
   ],
   "source": [
    "i = 0\n",
    "for line in selected_df.isnull().sum():\n",
    "    colname = selected_df.columns[i]\n",
    "    print(\"\\n\", colname, \"té\", line, \"NULLS\")\n",
    "    i += 1"
   ]
  },
  {
   "cell_type": "markdown",
   "id": "b13f1bc5",
   "metadata": {},
   "source": [
    "## Analisi de les dades"
   ]
  },
  {
   "cell_type": "markdown",
   "id": "78a640e8",
   "metadata": {},
   "source": [
    "Per realitzar l'anàlisi de les dades anem a definir un nou dataframe sobre el que treballarem, en aquest aprofitarem per convertir les variables categòriques en factors numèrics per poder realitzar proves estadístiques."
   ]
  },
  {
   "cell_type": "code",
   "execution_count": 34,
   "id": "05752fa5",
   "metadata": {},
   "outputs": [],
   "source": [
    "analysis_df = selected_df.copy()\n",
    "\n",
    "df_object_columns = analysis_df.select_dtypes(include=['object'])\n",
    "analysis_df[df_object_columns.columns] = df_object_columns.astype('category')"
   ]
  },
  {
   "cell_type": "markdown",
   "id": "5045bb14",
   "metadata": {},
   "source": [
    "Anem a comprovar si es compleix que tenim una distribució normal de les dades realitzant el test de Wilk-Shapiro. D'aquesta manera ho veurem més clarament que en una representació gràfica i si obtenim p-values més grans que alfa veurem clarament que és el cas."
   ]
  },
  {
   "cell_type": "code",
   "execution_count": 35,
   "id": "4060b154",
   "metadata": {},
   "outputs": [
    {
     "data": {
      "image/png": "[encoded data removed]",
      "text/plain": [
       "<Figure size 640x480 with 1 Axes>"
      ]
     },
     "metadata": {},
     "output_type": "display_data"
    }
   ],
   "source": [
    "plt.hist(analysis_df['precio'], bins=10, alpha=0.5, label='precio')\n",
    "plt.show()"
   ]
  },
  {
   "cell_type": "code",
   "execution_count": 36,
   "id": "b678755f",
   "metadata": {},
   "outputs": [
    {
     "name": "stdout",
     "output_type": "stream",
     "text": [
      "Shapiro-Wilk Test - p-value\n",
      "\t precio = 1.61e-12\n",
      "\t marca = 1.75e-20\n",
      "\t gastos_envio = 9.10e-39\n",
      "\t garantía = 7.85e-42\n",
      "\t altura = 6.63e-28\n",
      "\t anchura = 1.61e-31\n",
      "\t profundidad = 1.37e-22\n",
      "\t capacidad = 9.34e-09\n",
      "\t puertas = 5.91e-31\n",
      "\t baldas = 8.66e-19\n",
      "\t instalación = 8.73e-32\n",
      "\t consumo_anual = 2.16e-16\n",
      "\t eficiencia = 5.74e-20\n",
      "\t ruido = 1.50e-34\n",
      "\t refrigeración = 8.73e-32\n",
      "\t color = 5.53e-19\n"
     ]
    }
   ],
   "source": [
    "def get_pvalue(data):\n",
    "    _, p_value = stats.shapiro(data)\n",
    "    return p_value\n",
    "print('Shapiro-Wilk Test - p-value')\n",
    "for column in analysis_df.columns:\n",
    "    if analysis_df[column].dtype.name == 'category':\n",
    "        original_values = analysis_df[column].cat.codes.astype('float')\n",
    "        p_value = format(get_pvalue(original_values), \".2e\")\n",
    "    else:\n",
    "        p_value = format(get_pvalue(analysis_df[column]), \".2e\")\n",
    "    print(f'\\t {column} = {p_value}')"
   ]
  },
  {
   "cell_type": "markdown",
   "id": "af169831",
   "metadata": {},
   "source": [
    "Veiem que tenim p-values molt petits, tenint en compte que alfa ronda entre 0.05 i 0.1. Això vol dir que no tenim distribució normal de les dades. Amb algunes variables es pot veure molt clarament de forma gràfica."
   ]
  },
  {
   "cell_type": "code",
   "execution_count": 37,
   "id": "2e791bf3",
   "metadata": {},
   "outputs": [
    {
     "data": {
      "image/png": "[encoded data removed]",
      "text/plain": [
       "<Figure size 640x480 with 1 Axes>"
      ]
     },
     "metadata": {},
     "output_type": "display_data"
    }
   ],
   "source": [
    "plt.hist(analysis_df['altura'], bins=20, alpha=0.5, label='precio')\n",
    "plt.show()"
   ]
  },
  {
   "cell_type": "markdown",
   "id": "659c71ff",
   "metadata": {},
   "source": [
    "Així doncs haurem de realitzar tests que no asumeixin que la distribució de dades és normal.\n",
    "Un exemple d'aquests tests és el Test d'Spearman que ens permet comparar la correlació entre dues variables."
   ]
  },
  {
   "cell_type": "code",
   "execution_count": 44,
   "id": "9324fbd1",
   "metadata": {},
   "outputs": [
    {
     "name": "stdout",
     "output_type": "stream",
     "text": [
      "Correlation: 0.09067079809170117\n",
      "P-value: 0.04528774151588301\n"
     ]
    }
   ],
   "source": [
    "group1 = analysis_df['precio']\n",
    "group2 = analysis_df['altura']\n",
    "\n",
    "correlation, p_value = stats.spearmanr(group1, group2)\n",
    "\n",
    "print(f\"Correlation: {correlation}\")\n",
    "print(f\"P-value: {p_value}\")\n"
   ]
  },
  {
   "cell_type": "markdown",
   "id": "eeafc122",
   "metadata": {},
   "source": [
    "Podem doncs fer aquest test amb totes les columnes per trobar si hi ha alguna correlació notable."
   ]
  },
  {
   "cell_type": "code",
   "execution_count": 49,
   "id": "51049044",
   "metadata": {},
   "outputs": [
    {
     "name": "stdout",
     "output_type": "stream",
     "text": [
      "Significant correlation between precio and profundidad: 0.6277679305974205\n",
      "Significant correlation between altura and instalación: 0.6443150657375276\n",
      "Significant correlation between altura and refrigeración: 0.6443150657375276\n",
      "Significant correlation between anchura and profundidad: 0.6240267793544928\n",
      "Significant correlation between anchura and capacidad: 0.6828029909820064\n",
      "Significant correlation between puertas and instalación: 0.6005265955607914\n",
      "Significant correlation between puertas and consumo_anual: 0.654923532143251\n",
      "Significant correlation between puertas and refrigeración: 0.6005265955607914\n",
      "Significant correlation between instalación and refrigeración: 1.0\n",
      "Significant correlation between consumo_anual and eficiencia: 0.5176446721828281\n",
      "Significant correlation between consumo_anual and ruido: 0.5203924126711852\n",
      "Significant correlation between eficiencia and ruido: 0.5384373137007478\n"
     ]
    }
   ],
   "source": [
    "for i, col1 in enumerate(analysis_df.columns):\n",
    "    for col2 in analysis_df.columns[i+1:]:\n",
    "        if col1 == col2:\n",
    "            continue\n",
    "        correlation, p_value = stats.spearmanr(analysis_df[col1], analysis_df[col2])\n",
    "        if correlation > 0.5 and p_value < 0.05:\n",
    "            print(f'Significant correlation between {col1} and {col2}: {correlation}')"
   ]
  },
  {
   "cell_type": "code",
   "execution_count": null,
   "id": "8f9effad",
   "metadata": {},
   "outputs": [],
   "source": [
    "raw_df['Refrigeración'] = raw_df['Refrigeración'].str.replace(\" \", \"\").fillna(\"NoFrost\")\n",
    "raw_df['Númerodepuertas'] = raw_df['Númerodepuertas'].str.replace(\" Puertas\", \"\").fillna(\"2\").astype(int)\n",
    "raw_df['Tipodeinstalación'] = raw_df['Tipodeinstalación'].str.replace(' ', '')\n",
    "raw_df['Cajones/Cestas'] = raw_df['Cajones/Cestas'].str.replace(\" Cajoneras\", \"\").fillna(\"2\").astype(int)\n",
    "raw_df['Iluminación'] = raw_df['Iluminación'].fillna(\"Unknown\")\n",
    "raw_df['Color/material'] = raw_df['Color/material'].str.replace(\" \", \"\").fillna(\"Unknown\")\n",
    "raw_df['Tirador'] = raw_df['Tirador'].str.replace(\" \", \"\").fillna(\"Unknown\")\n",
    "raw_df['Alimentación'] = raw_df['Alimentación'].str.replace('V', '').str.replace(' ', '').fillna(\"230\").astype(int)\n",
    "raw_df['EficienciaNueva'] = raw_df['EficienciaNueva'].str.replace(' ', '').fillna(\"E\")\n",
    "raw_df['ConsumoAnualdeEnergía'] = raw_df['ConsumoAnualdeEnergía'].str.replace(' Kwh/Año', '')\n",
    "average = raw_df['ConsumoAnualdeEnergía'].dropna().astype(float).mean()\n",
    "raw_df['ConsumoAnualdeEnergía'] = raw_df['ConsumoAnualdeEnergía'].fillna(average).astype(int)\n",
    "\n",
    "raw_df['Ruido'] = raw_df['Ruido'].str.replace(' Decibelios', '')\n",
    "ruidocol = raw_df['Ruido'].replace(\"254\", np.nan).dropna().astype(float)\n",
    "linear_values = 10 ** (ruidocol / 10)\n",
    "average_decibel = 10 * np.log10(np.mean(linear_values))\n",
    "raw_df['Ruido'] = raw_df['Ruido'].fillna(average_decibel).astype(int)\n",
    "\n",
    "\n",
    "raw_df['Alturaexacta'] = raw_df['Alturaexacta'].str.replace(' Centímetros', '') #falta gestionar NULLS i convertir a INT\n",
    "raw_df['Anchuraexacta'] = raw_df['Anchuraexacta'].str.replace(' Centímetros', '') #falta gestionar NULLS i convertir a INT\n",
    "raw_df['Profundidad'] = raw_df['Profundidad'].str.replace(' Centímetros', '') #falta gestionar NULLS i convertir a INT\n",
    "raw_df['Garantía'] = raw_df['Garantía'].str.replace(' Años', '').fillna('3').astype(int)\n",
    "raw_df['BaldasenRefrigerador'] = raw_df['BaldasenRefrigerador'].str.replace(' Baldas', '').str.replace(' ', '') #falta gestionar NULLS i convertir a INT\n",
    "raw_df['Capacidadfrigorífico'] = raw_df['Capacidadfrigorífico'].str.replace(' Litros', '').str.replace('\\\\r', '') #falta gestionar NULLS i convertir a INT\n",
    "\n",
    "i = 0\n",
    "for line in raw_df.isnull().sum():\n",
    "    if line < 50:\n",
    "        colname = raw_df.columns[i]\n",
    "        print(colname, \"has\", line, \"NULLS\")\n",
    "        print(raw_df[colname].unique(), \"\\n\")\n",
    "    i += 1"
   ]
  },
  {
   "cell_type": "code",
   "execution_count": null,
   "id": "28b16aec",
   "metadata": {},
   "outputs": [],
   "source": []
  },
  {
   "cell_type": "code",
   "execution_count": null,
   "id": "7371d3b4",
   "metadata": {},
   "outputs": [],
   "source": []
  },
  {
   "cell_type": "code",
   "execution_count": null,
   "id": "47b0f604",
   "metadata": {},
   "outputs": [],
   "source": []
  }
 ],
 "metadata": {
  "kernelspec": {
   "display_name": "Python 3 (ipykernel)",
   "language": "python",
   "name": "python3"
  },
  "language_info": {
   "codemirror_mode": {
    "name": "ipython",
    "version": 3
   },
   "file_extension": ".py",
   "mimetype": "text/x-python",
   "name": "python",
   "nbconvert_exporter": "python",
   "pygments_lexer": "ipython3",
   "version": "3.10.9"
  }
 },
 "nbformat": 4,
 "nbformat_minor": 5
}
